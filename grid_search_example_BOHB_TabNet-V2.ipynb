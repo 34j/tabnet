{
 "cells": [
  {
   "cell_type": "code",
   "execution_count": 1,
   "metadata": {},
   "outputs": [
    {
     "data": {
      "application/javascript": [
       "\n",
       "            setTimeout(function() {\n",
       "                var nbb_cell_id = 1;\n",
       "                var nbb_unformatted_code = \"%load_ext nb_black\";\n",
       "                var nbb_formatted_code = \"%load_ext nb_black\";\n",
       "                var nbb_cells = Jupyter.notebook.get_cells();\n",
       "                for (var i = 0; i < nbb_cells.length; ++i) {\n",
       "                    if (nbb_cells[i].input_prompt_number == nbb_cell_id) {\n",
       "                        if (nbb_cells[i].get_text() == nbb_unformatted_code) {\n",
       "                             nbb_cells[i].set_text(nbb_formatted_code);\n",
       "                        }\n",
       "                        break;\n",
       "                    }\n",
       "                }\n",
       "            }, 500);\n",
       "            "
      ],
      "text/plain": [
       "<IPython.core.display.Javascript object>"
      ]
     },
     "metadata": {},
     "output_type": "display_data"
    }
   ],
   "source": [
    "%load_ext nb_black"
   ]
  },
  {
   "cell_type": "code",
   "execution_count": 2,
   "metadata": {},
   "outputs": [
    {
     "data": {
      "application/javascript": [
       "\n",
       "            setTimeout(function() {\n",
       "                var nbb_cell_id = 2;\n",
       "                var nbb_unformatted_code = \"import os\\nfrom pathlib import Path\\n\\nfrom requests import get\\nimport pandas as pd\\nimport numpy as np\\n\\nnp.random.seed(0)\\n\\nfrom sklearn.preprocessing import LabelEncoder\\nfrom sklearn.metrics import roc_auc_score\\n\\nimport logging\\n\\nlogging.basicConfig(level=logging.WARN)\";\n",
       "                var nbb_formatted_code = \"import os\\nfrom pathlib import Path\\n\\nfrom requests import get\\nimport pandas as pd\\nimport numpy as np\\n\\nnp.random.seed(0)\\n\\nfrom sklearn.preprocessing import LabelEncoder\\nfrom sklearn.metrics import roc_auc_score\\n\\nimport logging\\n\\nlogging.basicConfig(level=logging.WARN)\";\n",
       "                var nbb_cells = Jupyter.notebook.get_cells();\n",
       "                for (var i = 0; i < nbb_cells.length; ++i) {\n",
       "                    if (nbb_cells[i].input_prompt_number == nbb_cell_id) {\n",
       "                        if (nbb_cells[i].get_text() == nbb_unformatted_code) {\n",
       "                             nbb_cells[i].set_text(nbb_formatted_code);\n",
       "                        }\n",
       "                        break;\n",
       "                    }\n",
       "                }\n",
       "            }, 500);\n",
       "            "
      ],
      "text/plain": [
       "<IPython.core.display.Javascript object>"
      ]
     },
     "metadata": {},
     "output_type": "display_data"
    }
   ],
   "source": [
    "import os\n",
    "from pathlib import Path\n",
    "\n",
    "from requests import get\n",
    "import pandas as pd\n",
    "import numpy as np\n",
    "\n",
    "np.random.seed(0)\n",
    "\n",
    "from sklearn.preprocessing import LabelEncoder\n",
    "from sklearn.metrics import roc_auc_score\n",
    "\n",
    "import logging\n",
    "\n",
    "logging.basicConfig(level=logging.WARN)"
   ]
  },
  {
   "cell_type": "code",
   "execution_count": 3,
   "metadata": {},
   "outputs": [
    {
     "data": {
      "application/javascript": [
       "\n",
       "            setTimeout(function() {\n",
       "                var nbb_cell_id = 3;\n",
       "                var nbb_unformatted_code = \"from pytorch_tabnet.tuner.bohb_tuner import BOHBTuner\\nfrom pytorch_tabnet.tuner.tabnet_worker import TabNetWorker\";\n",
       "                var nbb_formatted_code = \"from pytorch_tabnet.tuner.bohb_tuner import BOHBTuner\\nfrom pytorch_tabnet.tuner.tabnet_worker import TabNetWorker\";\n",
       "                var nbb_cells = Jupyter.notebook.get_cells();\n",
       "                for (var i = 0; i < nbb_cells.length; ++i) {\n",
       "                    if (nbb_cells[i].input_prompt_number == nbb_cell_id) {\n",
       "                        if (nbb_cells[i].get_text() == nbb_unformatted_code) {\n",
       "                             nbb_cells[i].set_text(nbb_formatted_code);\n",
       "                        }\n",
       "                        break;\n",
       "                    }\n",
       "                }\n",
       "            }, 500);\n",
       "            "
      ],
      "text/plain": [
       "<IPython.core.display.Javascript object>"
      ]
     },
     "metadata": {},
     "output_type": "display_data"
    }
   ],
   "source": [
    "from pytorch_tabnet.tuner.bohb_tuner import BOHBTuner\n",
    "from pytorch_tabnet.tuner.tabnet_worker import TabNetWorker"
   ]
  },
  {
   "cell_type": "markdown",
   "metadata": {},
   "source": [
    "# Utilities"
   ]
  },
  {
   "cell_type": "code",
   "execution_count": 4,
   "metadata": {},
   "outputs": [
    {
     "data": {
      "application/javascript": [
       "\n",
       "            setTimeout(function() {\n",
       "                var nbb_cell_id = 4;\n",
       "                var nbb_unformatted_code = \"def download(url, out, force=False, verify=True):\\n    out.parent.mkdir(parents=True, exist_ok=True)\\n    if force and out.exists():\\n        print(f\\\"Removing file at {str(out)}\\\")\\n        out.unlink()\\n\\n    if out.exists():\\n        print(\\\"File already exists.\\\")\\n        return\\n    print(f\\\"Downloading {url} at {str(out)} ...\\\")\\n    # open in binary mode\\n    with out.open(mode=\\\"wb\\\") as file:\\n        # get request\\n        response = get(url, verify=verify)\\n        for chunk in response.iter_content(100000):\\n            # write to file\\n            file.write(chunk)\";\n",
       "                var nbb_formatted_code = \"def download(url, out, force=False, verify=True):\\n    out.parent.mkdir(parents=True, exist_ok=True)\\n    if force and out.exists():\\n        print(f\\\"Removing file at {str(out)}\\\")\\n        out.unlink()\\n\\n    if out.exists():\\n        print(\\\"File already exists.\\\")\\n        return\\n    print(f\\\"Downloading {url} at {str(out)} ...\\\")\\n    # open in binary mode\\n    with out.open(mode=\\\"wb\\\") as file:\\n        # get request\\n        response = get(url, verify=verify)\\n        for chunk in response.iter_content(100000):\\n            # write to file\\n            file.write(chunk)\";\n",
       "                var nbb_cells = Jupyter.notebook.get_cells();\n",
       "                for (var i = 0; i < nbb_cells.length; ++i) {\n",
       "                    if (nbb_cells[i].input_prompt_number == nbb_cell_id) {\n",
       "                        if (nbb_cells[i].get_text() == nbb_unformatted_code) {\n",
       "                             nbb_cells[i].set_text(nbb_formatted_code);\n",
       "                        }\n",
       "                        break;\n",
       "                    }\n",
       "                }\n",
       "            }, 500);\n",
       "            "
      ],
      "text/plain": [
       "<IPython.core.display.Javascript object>"
      ]
     },
     "metadata": {},
     "output_type": "display_data"
    }
   ],
   "source": [
    "def download(url, out, force=False, verify=True):\n",
    "    out.parent.mkdir(parents=True, exist_ok=True)\n",
    "    if force and out.exists():\n",
    "        print(f\"Removing file at {str(out)}\")\n",
    "        out.unlink()\n",
    "\n",
    "    if out.exists():\n",
    "        print(\"File already exists.\")\n",
    "        return\n",
    "    print(f\"Downloading {url} at {str(out)} ...\")\n",
    "    # open in binary mode\n",
    "    with out.open(mode=\"wb\") as file:\n",
    "        # get request\n",
    "        response = get(url, verify=verify)\n",
    "        for chunk in response.iter_content(100000):\n",
    "            # write to file\n",
    "            file.write(chunk)"
   ]
  },
  {
   "cell_type": "code",
   "execution_count": 5,
   "metadata": {},
   "outputs": [
    {
     "data": {
      "application/javascript": [
       "\n",
       "            setTimeout(function() {\n",
       "                var nbb_cell_id = 5;\n",
       "                var nbb_unformatted_code = \"UNKNOWN_VALUE = [\\\"Unkn0wnV@lue\\\"]\\n\\n\\nclass SafeLabelEncoder(LabelEncoder):\\n    \\\"\\\"\\\"\\n    Safe label encoder, encoding every unknown value as Unkn0wnV@lue.\\n    \\\"\\\"\\\"\\n\\n    def fit(self, y):\\n        \\\"\\\"\\\"\\n        Fit the label encoder, by casting the numpy array as a string, then adding the code for unknown.\\n        \\n        Parameters\\n        ----------\\n        y : numpy array\\n            the values to fit\\n        \\n        Returns\\n        -------\\n        SafeLabelEncoder\\n            itself, fitted\\n        \\\"\\\"\\\"\\n        return super().fit(np.concatenate((y.astype(\\\"str\\\"), UNKNOWN_VALUE)))\\n\\n    def fit_transform(self, y):\\n        \\\"\\\"\\\"\\n        Fit the encoder, then transform the input data and returns it.\\n        \\n        Parameters\\n        ----------\\n        y : numpy array\\n            the values to fit\\n        \\n        Returns\\n        -------\\n        numpy array\\n            the encoded data\\n        \\\"\\\"\\\"\\n        self.fit(y)\\n        return super().transform(y)\\n\\n    def transform(self, y):\\n        \\\"\\\"\\\"\\n        Transform the input data and returns it.\\n        \\n        Parameters\\n        ----------\\n        y : numpy array\\n            the values to fit\\n        \\n        Returns\\n        -------\\n        numpy array\\n            the encoded data\\n        \\\"\\\"\\\"\\n        return super().transform(\\n            np.where(\\n                np.isin(y.astype(\\\"str\\\"), self.classes_), y.astype(\\\"str\\\"), UNKNOWN_VALUE\\n            )\\n        )\";\n",
       "                var nbb_formatted_code = \"UNKNOWN_VALUE = [\\\"Unkn0wnV@lue\\\"]\\n\\n\\nclass SafeLabelEncoder(LabelEncoder):\\n    \\\"\\\"\\\"\\n    Safe label encoder, encoding every unknown value as Unkn0wnV@lue.\\n    \\\"\\\"\\\"\\n\\n    def fit(self, y):\\n        \\\"\\\"\\\"\\n        Fit the label encoder, by casting the numpy array as a string, then adding the code for unknown.\\n        \\n        Parameters\\n        ----------\\n        y : numpy array\\n            the values to fit\\n        \\n        Returns\\n        -------\\n        SafeLabelEncoder\\n            itself, fitted\\n        \\\"\\\"\\\"\\n        return super().fit(np.concatenate((y.astype(\\\"str\\\"), UNKNOWN_VALUE)))\\n\\n    def fit_transform(self, y):\\n        \\\"\\\"\\\"\\n        Fit the encoder, then transform the input data and returns it.\\n        \\n        Parameters\\n        ----------\\n        y : numpy array\\n            the values to fit\\n        \\n        Returns\\n        -------\\n        numpy array\\n            the encoded data\\n        \\\"\\\"\\\"\\n        self.fit(y)\\n        return super().transform(y)\\n\\n    def transform(self, y):\\n        \\\"\\\"\\\"\\n        Transform the input data and returns it.\\n        \\n        Parameters\\n        ----------\\n        y : numpy array\\n            the values to fit\\n        \\n        Returns\\n        -------\\n        numpy array\\n            the encoded data\\n        \\\"\\\"\\\"\\n        return super().transform(\\n            np.where(\\n                np.isin(y.astype(\\\"str\\\"), self.classes_), y.astype(\\\"str\\\"), UNKNOWN_VALUE\\n            )\\n        )\";\n",
       "                var nbb_cells = Jupyter.notebook.get_cells();\n",
       "                for (var i = 0; i < nbb_cells.length; ++i) {\n",
       "                    if (nbb_cells[i].input_prompt_number == nbb_cell_id) {\n",
       "                        if (nbb_cells[i].get_text() == nbb_unformatted_code) {\n",
       "                             nbb_cells[i].set_text(nbb_formatted_code);\n",
       "                        }\n",
       "                        break;\n",
       "                    }\n",
       "                }\n",
       "            }, 500);\n",
       "            "
      ],
      "text/plain": [
       "<IPython.core.display.Javascript object>"
      ]
     },
     "metadata": {},
     "output_type": "display_data"
    }
   ],
   "source": [
    "UNKNOWN_VALUE = [\"Unkn0wnV@lue\"]\n",
    "\n",
    "\n",
    "class SafeLabelEncoder(LabelEncoder):\n",
    "    \"\"\"\n",
    "    Safe label encoder, encoding every unknown value as Unkn0wnV@lue.\n",
    "    \"\"\"\n",
    "\n",
    "    def fit(self, y):\n",
    "        \"\"\"\n",
    "        Fit the label encoder, by casting the numpy array as a string, then adding the code for unknown.\n",
    "        \n",
    "        Parameters\n",
    "        ----------\n",
    "        y : numpy array\n",
    "            the values to fit\n",
    "        \n",
    "        Returns\n",
    "        -------\n",
    "        SafeLabelEncoder\n",
    "            itself, fitted\n",
    "        \"\"\"\n",
    "        return super().fit(np.concatenate((y.astype(\"str\"), UNKNOWN_VALUE)))\n",
    "\n",
    "    def fit_transform(self, y):\n",
    "        \"\"\"\n",
    "        Fit the encoder, then transform the input data and returns it.\n",
    "        \n",
    "        Parameters\n",
    "        ----------\n",
    "        y : numpy array\n",
    "            the values to fit\n",
    "        \n",
    "        Returns\n",
    "        -------\n",
    "        numpy array\n",
    "            the encoded data\n",
    "        \"\"\"\n",
    "        self.fit(y)\n",
    "        return super().transform(y)\n",
    "\n",
    "    def transform(self, y):\n",
    "        \"\"\"\n",
    "        Transform the input data and returns it.\n",
    "        \n",
    "        Parameters\n",
    "        ----------\n",
    "        y : numpy array\n",
    "            the values to fit\n",
    "        \n",
    "        Returns\n",
    "        -------\n",
    "        numpy array\n",
    "            the encoded data\n",
    "        \"\"\"\n",
    "        return super().transform(\n",
    "            np.where(\n",
    "                np.isin(y.astype(\"str\"), self.classes_), y.astype(\"str\"), UNKNOWN_VALUE\n",
    "            )\n",
    "        )\n",
    "\n"
   ]
  },
  {
   "cell_type": "markdown",
   "metadata": {},
   "source": [
    "# Download census-income dataset"
   ]
  },
  {
   "cell_type": "code",
   "execution_count": 6,
   "metadata": {},
   "outputs": [
    {
     "name": "stdout",
     "output_type": "stream",
     "text": [
      "File already exists.\n",
      "File already exists.\n"
     ]
    },
    {
     "data": {
      "application/javascript": [
       "\n",
       "            setTimeout(function() {\n",
       "                var nbb_cell_id = 6;\n",
       "                var nbb_unformatted_code = \"url = \\\"https://archive.ics.uci.edu/ml/machine-learning-databases/adult/adult.data\\\"\\nurl_test = \\\"https://archive.ics.uci.edu/ml/machine-learning-databases/adult/adult.test\\\"\\n\\ndataset_name = \\\"census-income\\\"\\nout = Path(os.getcwd() + \\\"/data/\\\" + dataset_name + \\\".csv\\\")\\nout_test = Path(os.getcwd() + \\\"/data/\\\" + dataset_name + \\\"_test.csv\\\")\\n\\ndownload(url, out, force=False)\\ndownload(url_test, out_test, force=False)\";\n",
       "                var nbb_formatted_code = \"url = \\\"https://archive.ics.uci.edu/ml/machine-learning-databases/adult/adult.data\\\"\\nurl_test = \\\"https://archive.ics.uci.edu/ml/machine-learning-databases/adult/adult.test\\\"\\n\\ndataset_name = \\\"census-income\\\"\\nout = Path(os.getcwd() + \\\"/data/\\\" + dataset_name + \\\".csv\\\")\\nout_test = Path(os.getcwd() + \\\"/data/\\\" + dataset_name + \\\"_test.csv\\\")\\n\\ndownload(url, out, force=False)\\ndownload(url_test, out_test, force=False)\";\n",
       "                var nbb_cells = Jupyter.notebook.get_cells();\n",
       "                for (var i = 0; i < nbb_cells.length; ++i) {\n",
       "                    if (nbb_cells[i].input_prompt_number == nbb_cell_id) {\n",
       "                        if (nbb_cells[i].get_text() == nbb_unformatted_code) {\n",
       "                             nbb_cells[i].set_text(nbb_formatted_code);\n",
       "                        }\n",
       "                        break;\n",
       "                    }\n",
       "                }\n",
       "            }, 500);\n",
       "            "
      ],
      "text/plain": [
       "<IPython.core.display.Javascript object>"
      ]
     },
     "metadata": {},
     "output_type": "display_data"
    }
   ],
   "source": [
    "url = \"https://archive.ics.uci.edu/ml/machine-learning-databases/adult/adult.data\"\n",
    "url_test = \"https://archive.ics.uci.edu/ml/machine-learning-databases/adult/adult.test\"\n",
    "\n",
    "dataset_name = \"census-income\"\n",
    "out = Path(os.getcwd() + \"/data/\" + dataset_name + \".csv\")\n",
    "out_test = Path(os.getcwd() + \"/data/\" + dataset_name + \"_test.csv\")\n",
    "\n",
    "download(url, out, force=False)\n",
    "download(url_test, out_test, force=False)"
   ]
  },
  {
   "cell_type": "markdown",
   "metadata": {},
   "source": [
    "# Load data and split"
   ]
  },
  {
   "cell_type": "code",
   "execution_count": 7,
   "metadata": {},
   "outputs": [
    {
     "data": {
      "application/javascript": [
       "\n",
       "            setTimeout(function() {\n",
       "                var nbb_cell_id = 7;\n",
       "                var nbb_unformatted_code = \"cols = [\\n    \\\"age\\\",\\n    \\\"workclass\\\",\\n    \\\"fnlwgt\\\",\\n    \\\"education\\\",\\n    \\\"education-num\\\",\\n    \\\"marital-status\\\",\\n    \\\"occupation\\\",\\n    \\\"relationship\\\",\\n    \\\"race\\\",\\n    \\\"sex\\\",\\n    \\\"capital-gain\\\",\\n    \\\"capital-loss\\\",\\n    \\\"hours-per-week\\\",\\n    \\\"native-country\\\",\\n    \\\"target\\\",\\n]\";\n",
       "                var nbb_formatted_code = \"cols = [\\n    \\\"age\\\",\\n    \\\"workclass\\\",\\n    \\\"fnlwgt\\\",\\n    \\\"education\\\",\\n    \\\"education-num\\\",\\n    \\\"marital-status\\\",\\n    \\\"occupation\\\",\\n    \\\"relationship\\\",\\n    \\\"race\\\",\\n    \\\"sex\\\",\\n    \\\"capital-gain\\\",\\n    \\\"capital-loss\\\",\\n    \\\"hours-per-week\\\",\\n    \\\"native-country\\\",\\n    \\\"target\\\",\\n]\";\n",
       "                var nbb_cells = Jupyter.notebook.get_cells();\n",
       "                for (var i = 0; i < nbb_cells.length; ++i) {\n",
       "                    if (nbb_cells[i].input_prompt_number == nbb_cell_id) {\n",
       "                        if (nbb_cells[i].get_text() == nbb_unformatted_code) {\n",
       "                             nbb_cells[i].set_text(nbb_formatted_code);\n",
       "                        }\n",
       "                        break;\n",
       "                    }\n",
       "                }\n",
       "            }, 500);\n",
       "            "
      ],
      "text/plain": [
       "<IPython.core.display.Javascript object>"
      ]
     },
     "metadata": {},
     "output_type": "display_data"
    }
   ],
   "source": [
    "cols = [\n",
    "    \"age\",\n",
    "    \"workclass\",\n",
    "    \"fnlwgt\",\n",
    "    \"education\",\n",
    "    \"education-num\",\n",
    "    \"marital-status\",\n",
    "    \"occupation\",\n",
    "    \"relationship\",\n",
    "    \"race\",\n",
    "    \"sex\",\n",
    "    \"capital-gain\",\n",
    "    \"capital-loss\",\n",
    "    \"hours-per-week\",\n",
    "    \"native-country\",\n",
    "    \"target\",\n",
    "]"
   ]
  },
  {
   "cell_type": "code",
   "execution_count": 8,
   "metadata": {},
   "outputs": [
    {
     "data": {
      "application/javascript": [
       "\n",
       "            setTimeout(function() {\n",
       "                var nbb_cell_id = 8;\n",
       "                var nbb_unformatted_code = \"train = pd.read_csv(out, names=cols)\\ntest = pd.read_csv(out_test, names=cols, skiprows=2)\\ntarget = \\\"target\\\"\\n\\ntrain[target] = train[target].str.strip()\\n# Test has . in label, let's clean it\\ntest[target] = test[target].str.strip().str.strip(\\\".\\\")\";\n",
       "                var nbb_formatted_code = \"train = pd.read_csv(out, names=cols)\\ntest = pd.read_csv(out_test, names=cols, skiprows=2)\\ntarget = \\\"target\\\"\\n\\ntrain[target] = train[target].str.strip()\\n# Test has . in label, let's clean it\\ntest[target] = test[target].str.strip().str.strip(\\\".\\\")\";\n",
       "                var nbb_cells = Jupyter.notebook.get_cells();\n",
       "                for (var i = 0; i < nbb_cells.length; ++i) {\n",
       "                    if (nbb_cells[i].input_prompt_number == nbb_cell_id) {\n",
       "                        if (nbb_cells[i].get_text() == nbb_unformatted_code) {\n",
       "                             nbb_cells[i].set_text(nbb_formatted_code);\n",
       "                        }\n",
       "                        break;\n",
       "                    }\n",
       "                }\n",
       "            }, 500);\n",
       "            "
      ],
      "text/plain": [
       "<IPython.core.display.Javascript object>"
      ]
     },
     "metadata": {},
     "output_type": "display_data"
    }
   ],
   "source": [
    "train = pd.read_csv(out, names=cols)\n",
    "test = pd.read_csv(out_test, names=cols, skiprows=2)\n",
    "target = \"target\"\n",
    "\n",
    "train[target] = train[target].str.strip()\n",
    "# Test has . in label, let's clean it\n",
    "test[target] = test[target].str.strip().str.strip(\".\")"
   ]
  },
  {
   "cell_type": "code",
   "execution_count": 9,
   "metadata": {},
   "outputs": [
    {
     "data": {
      "text/plain": [
       "['native-country',\n",
       " 'education',\n",
       " 'marital-status',\n",
       " 'race',\n",
       " 'fnlwgt',\n",
       " 'age',\n",
       " 'workclass',\n",
       " 'relationship',\n",
       " 'education-num',\n",
       " 'capital-loss',\n",
       " 'sex',\n",
       " 'hours-per-week',\n",
       " 'capital-gain',\n",
       " 'occupation']"
      ]
     },
     "execution_count": 9,
     "metadata": {},
     "output_type": "execute_result"
    },
    {
     "data": {
      "application/javascript": [
       "\n",
       "            setTimeout(function() {\n",
       "                var nbb_cell_id = 9;\n",
       "                var nbb_unformatted_code = \"used_columns = list(set(train.columns.tolist()) - set([target]) - set([\\\"Set\\\"]))\\nused_columns\";\n",
       "                var nbb_formatted_code = \"used_columns = list(set(train.columns.tolist()) - set([target]) - set([\\\"Set\\\"]))\\nused_columns\";\n",
       "                var nbb_cells = Jupyter.notebook.get_cells();\n",
       "                for (var i = 0; i < nbb_cells.length; ++i) {\n",
       "                    if (nbb_cells[i].input_prompt_number == nbb_cell_id) {\n",
       "                        if (nbb_cells[i].get_text() == nbb_unformatted_code) {\n",
       "                             nbb_cells[i].set_text(nbb_formatted_code);\n",
       "                        }\n",
       "                        break;\n",
       "                    }\n",
       "                }\n",
       "            }, 500);\n",
       "            "
      ],
      "text/plain": [
       "<IPython.core.display.Javascript object>"
      ]
     },
     "metadata": {},
     "output_type": "display_data"
    }
   ],
   "source": [
    "used_columns = list(set(train.columns.tolist()) - set([target]) - set([\"Set\"]))\n",
    "used_columns"
   ]
  },
  {
   "cell_type": "markdown",
   "metadata": {},
   "source": [
    "# Simple preprocessing\n",
    "\n",
    "Label encode categorical features and fill empty cells."
   ]
  },
  {
   "cell_type": "code",
   "execution_count": 10,
   "metadata": {},
   "outputs": [
    {
     "name": "stdout",
     "output_type": "stream",
     "text": [
      "Index(['native-country', 'education', 'marital-status', 'race', 'age',\n",
      "       'workclass', 'relationship', 'education-num', 'capital-loss', 'sex',\n",
      "       'hours-per-week', 'capital-gain', 'occupation'],\n",
      "      dtype='object')\n",
      "Index(['fnlwgt'], dtype='object')\n"
     ]
    },
    {
     "data": {
      "application/javascript": [
       "\n",
       "            setTimeout(function() {\n",
       "                var nbb_cell_id = 10;\n",
       "                var nbb_unformatted_code = \"nunique = train[used_columns].nunique()\\ntypes = train[used_columns].dtypes\\n\\ncat_cols = train[used_columns].columns[(nunique < 200) | (types == \\\"object\\\")]\\nother_cols = train[used_columns].columns[~train[used_columns].columns.isin(cat_cols)]\\nprint(cat_cols)\\nprint(other_cols)\";\n",
       "                var nbb_formatted_code = \"nunique = train[used_columns].nunique()\\ntypes = train[used_columns].dtypes\\n\\ncat_cols = train[used_columns].columns[(nunique < 200) | (types == \\\"object\\\")]\\nother_cols = train[used_columns].columns[~train[used_columns].columns.isin(cat_cols)]\\nprint(cat_cols)\\nprint(other_cols)\";\n",
       "                var nbb_cells = Jupyter.notebook.get_cells();\n",
       "                for (var i = 0; i < nbb_cells.length; ++i) {\n",
       "                    if (nbb_cells[i].input_prompt_number == nbb_cell_id) {\n",
       "                        if (nbb_cells[i].get_text() == nbb_unformatted_code) {\n",
       "                             nbb_cells[i].set_text(nbb_formatted_code);\n",
       "                        }\n",
       "                        break;\n",
       "                    }\n",
       "                }\n",
       "            }, 500);\n",
       "            "
      ],
      "text/plain": [
       "<IPython.core.display.Javascript object>"
      ]
     },
     "metadata": {},
     "output_type": "display_data"
    }
   ],
   "source": [
    "nunique = train[used_columns].nunique()\n",
    "types = train[used_columns].dtypes\n",
    "\n",
    "cat_cols = train[used_columns].columns[(nunique < 200) | (types == \"object\")]\n",
    "other_cols = train[used_columns].columns[~train[used_columns].columns.isin(cat_cols)]\n",
    "print(cat_cols)\n",
    "print(other_cols)"
   ]
  },
  {
   "cell_type": "code",
   "execution_count": 11,
   "metadata": {},
   "outputs": [
    {
     "data": {
      "application/javascript": [
       "\n",
       "            setTimeout(function() {\n",
       "                var nbb_cell_id = 11;\n",
       "                var nbb_unformatted_code = \"# Fillna\\ntrain[cat_cols] = train[cat_cols].astype(\\\"str\\\")\\ntrain[other_cols] = train[other_cols].fillna(train[other_cols].mean())\\n\\ntest[cat_cols] = test[cat_cols].astype(\\\"str\\\")\\ntest[other_cols] = test[other_cols].fillna(train[other_cols].mean())\";\n",
       "                var nbb_formatted_code = \"# Fillna\\ntrain[cat_cols] = train[cat_cols].astype(\\\"str\\\")\\ntrain[other_cols] = train[other_cols].fillna(train[other_cols].mean())\\n\\ntest[cat_cols] = test[cat_cols].astype(\\\"str\\\")\\ntest[other_cols] = test[other_cols].fillna(train[other_cols].mean())\";\n",
       "                var nbb_cells = Jupyter.notebook.get_cells();\n",
       "                for (var i = 0; i < nbb_cells.length; ++i) {\n",
       "                    if (nbb_cells[i].input_prompt_number == nbb_cell_id) {\n",
       "                        if (nbb_cells[i].get_text() == nbb_unformatted_code) {\n",
       "                             nbb_cells[i].set_text(nbb_formatted_code);\n",
       "                        }\n",
       "                        break;\n",
       "                    }\n",
       "                }\n",
       "            }, 500);\n",
       "            "
      ],
      "text/plain": [
       "<IPython.core.display.Javascript object>"
      ]
     },
     "metadata": {},
     "output_type": "display_data"
    }
   ],
   "source": [
    "# Fillna\n",
    "train[cat_cols] = train[cat_cols].astype(\"str\")\n",
    "train[other_cols] = train[other_cols].fillna(train[other_cols].mean())\n",
    "\n",
    "test[cat_cols] = test[cat_cols].astype(\"str\")\n",
    "test[other_cols] = test[other_cols].fillna(train[other_cols].mean())"
   ]
  },
  {
   "cell_type": "code",
   "execution_count": 12,
   "metadata": {},
   "outputs": [
    {
     "data": {
      "text/plain": [
       "0"
      ]
     },
     "execution_count": 12,
     "metadata": {},
     "output_type": "execute_result"
    },
    {
     "data": {
      "application/javascript": [
       "\n",
       "            setTimeout(function() {\n",
       "                var nbb_cell_id = 12;\n",
       "                var nbb_unformatted_code = \"train.isnull().sum().sum()\";\n",
       "                var nbb_formatted_code = \"train.isnull().sum().sum()\";\n",
       "                var nbb_cells = Jupyter.notebook.get_cells();\n",
       "                for (var i = 0; i < nbb_cells.length; ++i) {\n",
       "                    if (nbb_cells[i].input_prompt_number == nbb_cell_id) {\n",
       "                        if (nbb_cells[i].get_text() == nbb_unformatted_code) {\n",
       "                             nbb_cells[i].set_text(nbb_formatted_code);\n",
       "                        }\n",
       "                        break;\n",
       "                    }\n",
       "                }\n",
       "            }, 500);\n",
       "            "
      ],
      "text/plain": [
       "<IPython.core.display.Javascript object>"
      ]
     },
     "metadata": {},
     "output_type": "display_data"
    }
   ],
   "source": [
    "train.isnull().sum().sum()"
   ]
  },
  {
   "cell_type": "code",
   "execution_count": 13,
   "metadata": {},
   "outputs": [
    {
     "data": {
      "text/plain": [
       "{'native-country': SafeLabelEncoder(),\n",
       " 'education': SafeLabelEncoder(),\n",
       " 'marital-status': SafeLabelEncoder(),\n",
       " 'race': SafeLabelEncoder(),\n",
       " 'age': SafeLabelEncoder(),\n",
       " 'workclass': SafeLabelEncoder(),\n",
       " 'relationship': SafeLabelEncoder(),\n",
       " 'education-num': SafeLabelEncoder(),\n",
       " 'capital-loss': SafeLabelEncoder(),\n",
       " 'sex': SafeLabelEncoder(),\n",
       " 'hours-per-week': SafeLabelEncoder(),\n",
       " 'capital-gain': SafeLabelEncoder(),\n",
       " 'occupation': SafeLabelEncoder(),\n",
       " 'target': SafeLabelEncoder()}"
      ]
     },
     "execution_count": 13,
     "metadata": {},
     "output_type": "execute_result"
    },
    {
     "data": {
      "application/javascript": [
       "\n",
       "            setTimeout(function() {\n",
       "                var nbb_cell_id = 13;\n",
       "                var nbb_unformatted_code = \"enc = {}\\nfor col in cat_cols:\\n    label_enc = SafeLabelEncoder()\\n    enc[col] = label_enc\\n    train[col] = label_enc.fit_transform(train[col])\\n    test[col] = label_enc.transform(test[col])\\nenc[target] = SafeLabelEncoder()\\ntrain[target] = enc[target].fit_transform(train[target])\\ntest[target] = enc[target].transform(test[target])\\n\\nenc\";\n",
       "                var nbb_formatted_code = \"enc = {}\\nfor col in cat_cols:\\n    label_enc = SafeLabelEncoder()\\n    enc[col] = label_enc\\n    train[col] = label_enc.fit_transform(train[col])\\n    test[col] = label_enc.transform(test[col])\\nenc[target] = SafeLabelEncoder()\\ntrain[target] = enc[target].fit_transform(train[target])\\ntest[target] = enc[target].transform(test[target])\\n\\nenc\";\n",
       "                var nbb_cells = Jupyter.notebook.get_cells();\n",
       "                for (var i = 0; i < nbb_cells.length; ++i) {\n",
       "                    if (nbb_cells[i].input_prompt_number == nbb_cell_id) {\n",
       "                        if (nbb_cells[i].get_text() == nbb_unformatted_code) {\n",
       "                             nbb_cells[i].set_text(nbb_formatted_code);\n",
       "                        }\n",
       "                        break;\n",
       "                    }\n",
       "                }\n",
       "            }, 500);\n",
       "            "
      ],
      "text/plain": [
       "<IPython.core.display.Javascript object>"
      ]
     },
     "metadata": {},
     "output_type": "display_data"
    }
   ],
   "source": [
    "enc = {}\n",
    "for col in cat_cols:\n",
    "    label_enc = SafeLabelEncoder()\n",
    "    enc[col] = label_enc\n",
    "    train[col] = label_enc.fit_transform(train[col])\n",
    "    test[col] = label_enc.transform(test[col])\n",
    "enc[target] = SafeLabelEncoder()\n",
    "train[target] = enc[target].fit_transform(train[target])\n",
    "test[target] = enc[target].transform(test[target])\n",
    "\n",
    "enc"
   ]
  },
  {
   "cell_type": "markdown",
   "metadata": {},
   "source": [
    "# Define categorical features for categorical embeddings"
   ]
  },
  {
   "cell_type": "code",
   "execution_count": 14,
   "metadata": {},
   "outputs": [
    {
     "name": "stdout",
     "output_type": "stream",
     "text": [
      "[0, 1, 2, 3, 5, 6, 7, 8, 9, 10, 11, 12, 13]\n",
      "[43, 17, 8, 6, 74, 10, 7, 17, 93, 3, 95, 120, 16]\n"
     ]
    },
    {
     "data": {
      "application/javascript": [
       "\n",
       "            setTimeout(function() {\n",
       "                var nbb_cell_id = 14;\n",
       "                var nbb_unformatted_code = \"unused_feat = [\\\"Set\\\"]\\n\\ncat_idxs = [i for i, f in enumerate(used_columns) if f in cat_cols]\\ncat_dims = [len(enc[f].classes_) for f in used_columns if f in cat_cols]\\nprint(cat_idxs)\\nprint(cat_dims)\";\n",
       "                var nbb_formatted_code = \"unused_feat = [\\\"Set\\\"]\\n\\ncat_idxs = [i for i, f in enumerate(used_columns) if f in cat_cols]\\ncat_dims = [len(enc[f].classes_) for f in used_columns if f in cat_cols]\\nprint(cat_idxs)\\nprint(cat_dims)\";\n",
       "                var nbb_cells = Jupyter.notebook.get_cells();\n",
       "                for (var i = 0; i < nbb_cells.length; ++i) {\n",
       "                    if (nbb_cells[i].input_prompt_number == nbb_cell_id) {\n",
       "                        if (nbb_cells[i].get_text() == nbb_unformatted_code) {\n",
       "                             nbb_cells[i].set_text(nbb_formatted_code);\n",
       "                        }\n",
       "                        break;\n",
       "                    }\n",
       "                }\n",
       "            }, 500);\n",
       "            "
      ],
      "text/plain": [
       "<IPython.core.display.Javascript object>"
      ]
     },
     "metadata": {},
     "output_type": "display_data"
    }
   ],
   "source": [
    "unused_feat = [\"Set\"]\n",
    "\n",
    "cat_idxs = [i for i, f in enumerate(used_columns) if f in cat_cols]\n",
    "cat_dims = [len(enc[f].classes_) for f in used_columns if f in cat_cols]\n",
    "print(cat_idxs)\n",
    "print(cat_dims)"
   ]
  },
  {
   "cell_type": "code",
   "execution_count": 15,
   "metadata": {},
   "outputs": [
    {
     "data": {
      "application/javascript": [
       "\n",
       "            setTimeout(function() {\n",
       "                var nbb_cell_id = 15;\n",
       "                var nbb_unformatted_code = \"def log_emb_generator(cat_dim_list, max_dim):\\n    return [min(np.log2(nb).astype(\\\"int\\\"), max_dim) for nb in cat_dim_list]\";\n",
       "                var nbb_formatted_code = \"def log_emb_generator(cat_dim_list, max_dim):\\n    return [min(np.log2(nb).astype(\\\"int\\\"), max_dim) for nb in cat_dim_list]\";\n",
       "                var nbb_cells = Jupyter.notebook.get_cells();\n",
       "                for (var i = 0; i < nbb_cells.length; ++i) {\n",
       "                    if (nbb_cells[i].input_prompt_number == nbb_cell_id) {\n",
       "                        if (nbb_cells[i].get_text() == nbb_unformatted_code) {\n",
       "                             nbb_cells[i].set_text(nbb_formatted_code);\n",
       "                        }\n",
       "                        break;\n",
       "                    }\n",
       "                }\n",
       "            }, 500);\n",
       "            "
      ],
      "text/plain": [
       "<IPython.core.display.Javascript object>"
      ]
     },
     "metadata": {},
     "output_type": "display_data"
    }
   ],
   "source": [
    "def log_emb_generator(cat_dim_list, max_dim):\n",
    "    return [min(np.log2(nb).astype(\"int\"), max_dim) for nb in cat_dim_list]"
   ]
  },
  {
   "cell_type": "code",
   "execution_count": 16,
   "metadata": {},
   "outputs": [
    {
     "data": {
      "application/javascript": [
       "\n",
       "            setTimeout(function() {\n",
       "                var nbb_cell_id = 16;\n",
       "                var nbb_unformatted_code = \"def emb_generator(cat_dim_list, max_dim):\\n    return [min(nb // 2, max_dim) for nb in cat_dim_list]\";\n",
       "                var nbb_formatted_code = \"def emb_generator(cat_dim_list, max_dim):\\n    return [min(nb // 2, max_dim) for nb in cat_dim_list]\";\n",
       "                var nbb_cells = Jupyter.notebook.get_cells();\n",
       "                for (var i = 0; i < nbb_cells.length; ++i) {\n",
       "                    if (nbb_cells[i].input_prompt_number == nbb_cell_id) {\n",
       "                        if (nbb_cells[i].get_text() == nbb_unformatted_code) {\n",
       "                             nbb_cells[i].set_text(nbb_formatted_code);\n",
       "                        }\n",
       "                        break;\n",
       "                    }\n",
       "                }\n",
       "            }, 500);\n",
       "            "
      ],
      "text/plain": [
       "<IPython.core.display.Javascript object>"
      ]
     },
     "metadata": {},
     "output_type": "display_data"
    }
   ],
   "source": [
    "def emb_generator(cat_dim_list, max_dim):\n",
    "    return [min(nb // 2, max_dim) for nb in cat_dim_list]"
   ]
  },
  {
   "cell_type": "code",
   "execution_count": 17,
   "metadata": {},
   "outputs": [
    {
     "data": {
      "application/javascript": [
       "\n",
       "            setTimeout(function() {\n",
       "                var nbb_cell_id = 17;\n",
       "                var nbb_unformatted_code = \"cat_emb_dims = []\\n\\nfor max_dim in [1, 2, 5, 10, 20, 50]:\\n    cat_emb_dims.append(log_emb_generator(cat_dims, max_dim))\\n    cat_emb_dims.append(emb_generator(cat_dims, max_dim))\";\n",
       "                var nbb_formatted_code = \"cat_emb_dims = []\\n\\nfor max_dim in [1, 2, 5, 10, 20, 50]:\\n    cat_emb_dims.append(log_emb_generator(cat_dims, max_dim))\\n    cat_emb_dims.append(emb_generator(cat_dims, max_dim))\";\n",
       "                var nbb_cells = Jupyter.notebook.get_cells();\n",
       "                for (var i = 0; i < nbb_cells.length; ++i) {\n",
       "                    if (nbb_cells[i].input_prompt_number == nbb_cell_id) {\n",
       "                        if (nbb_cells[i].get_text() == nbb_unformatted_code) {\n",
       "                             nbb_cells[i].set_text(nbb_formatted_code);\n",
       "                        }\n",
       "                        break;\n",
       "                    }\n",
       "                }\n",
       "            }, 500);\n",
       "            "
      ],
      "text/plain": [
       "<IPython.core.display.Javascript object>"
      ]
     },
     "metadata": {},
     "output_type": "display_data"
    }
   ],
   "source": [
    "cat_emb_dims = []\n",
    "\n",
    "for max_dim in [1, 2, 5, 10, 20, 50]:\n",
    "    cat_emb_dims.append(log_emb_generator(cat_dims, max_dim))\n",
    "    cat_emb_dims.append(emb_generator(cat_dims, max_dim))"
   ]
  },
  {
   "cell_type": "markdown",
   "metadata": {},
   "source": [
    "# Training one model"
   ]
  },
  {
   "cell_type": "code",
   "execution_count": 18,
   "metadata": {},
   "outputs": [
    {
     "data": {
      "application/javascript": [
       "\n",
       "            setTimeout(function() {\n",
       "                var nbb_cell_id = 18;\n",
       "                var nbb_unformatted_code = \"train[\\\"Set\\\"] = np.random.choice(\\n    [\\\"train\\\", \\\"valid\\\"], p=[0.8, 0.2], size=(train.shape[0],)\\n)\\n\\ntrain_indices = train[train.Set == \\\"train\\\"].index\\nvalid_indices = train[train.Set == \\\"valid\\\"].index\\n\\nX_train = train[used_columns].values[train_indices]\\nX_valid = train[used_columns].values[valid_indices]\\n\\ny_train = train[target].values[train_indices]\\ny_valid = train[target].values[valid_indices]\\n\\n# Test here should be ignored for training, only purpose is benching with paper values\\nX_test = test[used_columns].values\\ny_test = test[target].values\\n\\ndel train, test, train_indices, valid_indices\";\n",
       "                var nbb_formatted_code = \"train[\\\"Set\\\"] = np.random.choice(\\n    [\\\"train\\\", \\\"valid\\\"], p=[0.8, 0.2], size=(train.shape[0],)\\n)\\n\\ntrain_indices = train[train.Set == \\\"train\\\"].index\\nvalid_indices = train[train.Set == \\\"valid\\\"].index\\n\\nX_train = train[used_columns].values[train_indices]\\nX_valid = train[used_columns].values[valid_indices]\\n\\ny_train = train[target].values[train_indices]\\ny_valid = train[target].values[valid_indices]\\n\\n# Test here should be ignored for training, only purpose is benching with paper values\\nX_test = test[used_columns].values\\ny_test = test[target].values\\n\\ndel train, test, train_indices, valid_indices\";\n",
       "                var nbb_cells = Jupyter.notebook.get_cells();\n",
       "                for (var i = 0; i < nbb_cells.length; ++i) {\n",
       "                    if (nbb_cells[i].input_prompt_number == nbb_cell_id) {\n",
       "                        if (nbb_cells[i].get_text() == nbb_unformatted_code) {\n",
       "                             nbb_cells[i].set_text(nbb_formatted_code);\n",
       "                        }\n",
       "                        break;\n",
       "                    }\n",
       "                }\n",
       "            }, 500);\n",
       "            "
      ],
      "text/plain": [
       "<IPython.core.display.Javascript object>"
      ]
     },
     "metadata": {},
     "output_type": "display_data"
    }
   ],
   "source": [
    "train[\"Set\"] = np.random.choice(\n",
    "    [\"train\", \"valid\"], p=[0.8, 0.2], size=(train.shape[0],)\n",
    ")\n",
    "\n",
    "train_indices = train[train.Set == \"train\"].index\n",
    "valid_indices = train[train.Set == \"valid\"].index\n",
    "\n",
    "X_train = train[used_columns].values[train_indices]\n",
    "X_valid = train[used_columns].values[valid_indices]\n",
    "\n",
    "y_train = train[target].values[train_indices]\n",
    "y_valid = train[target].values[valid_indices]\n",
    "\n",
    "# Test here should be ignored for training, only purpose is benching with paper values\n",
    "X_test = test[used_columns].values\n",
    "y_test = test[target].values\n",
    "\n",
    "del train, test, train_indices, valid_indices"
   ]
  },
  {
   "cell_type": "markdown",
   "metadata": {},
   "source": [
    "# BOHB"
   ]
  },
  {
   "cell_type": "markdown",
   "metadata": {},
   "source": [
    "## TabNet Worker"
   ]
  },
  {
   "cell_type": "code",
   "execution_count": 19,
   "metadata": {},
   "outputs": [
    {
     "data": {
      "application/javascript": [
       "\n",
       "            setTimeout(function() {\n",
       "                var nbb_cell_id = 19;\n",
       "                var nbb_unformatted_code = \"tuner = BOHBTuner(\\n    TabNetWorker,\\n    {\\n        \\\"cat_dims\\\": [cat_dims],\\n        \\\"cat_idxs\\\": [cat_idxs],\\n        \\\"cat_emb_dims\\\": cat_emb_dims,\\n        \\\"lr\\\": [0.02],\\n    },\\n)\";\n",
       "                var nbb_formatted_code = \"tuner = BOHBTuner(\\n    TabNetWorker,\\n    {\\n        \\\"cat_dims\\\": [cat_dims],\\n        \\\"cat_idxs\\\": [cat_idxs],\\n        \\\"cat_emb_dims\\\": cat_emb_dims,\\n        \\\"lr\\\": [0.02],\\n    },\\n)\";\n",
       "                var nbb_cells = Jupyter.notebook.get_cells();\n",
       "                for (var i = 0; i < nbb_cells.length; ++i) {\n",
       "                    if (nbb_cells[i].input_prompt_number == nbb_cell_id) {\n",
       "                        if (nbb_cells[i].get_text() == nbb_unformatted_code) {\n",
       "                             nbb_cells[i].set_text(nbb_formatted_code);\n",
       "                        }\n",
       "                        break;\n",
       "                    }\n",
       "                }\n",
       "            }, 500);\n",
       "            "
      ],
      "text/plain": [
       "<IPython.core.display.Javascript object>"
      ]
     },
     "metadata": {},
     "output_type": "display_data"
    }
   ],
   "source": [
    "tuner = BOHBTuner(\n",
    "    TabNetWorker,\n",
    "    # This is for overriding default grid\n",
    "    {\n",
    "        \"cat_dims\": [cat_dims],\n",
    "        \"cat_idxs\": [cat_idxs],\n",
    "        \"cat_emb_dims\": cat_emb_dims,\n",
    "        \"lr\": [0.02],\n",
    "    },\n",
    ")"
   ]
  },
  {
   "cell_type": "code",
   "execution_count": 20,
   "metadata": {},
   "outputs": [
    {
     "data": {
      "application/javascript": [
       "\n",
       "            setTimeout(function() {\n",
       "                var nbb_cell_id = 20;\n",
       "                var nbb_unformatted_code = \"min_budget = 2\\nmax_budget = 10\\nn_iter = 30\";\n",
       "                var nbb_formatted_code = \"min_budget = 2\\nmax_budget = 10\\nn_iter = 30\";\n",
       "                var nbb_cells = Jupyter.notebook.get_cells();\n",
       "                for (var i = 0; i < nbb_cells.length; ++i) {\n",
       "                    if (nbb_cells[i].input_prompt_number == nbb_cell_id) {\n",
       "                        if (nbb_cells[i].get_text() == nbb_unformatted_code) {\n",
       "                             nbb_cells[i].set_text(nbb_formatted_code);\n",
       "                        }\n",
       "                        break;\n",
       "                    }\n",
       "                }\n",
       "            }, 500);\n",
       "            "
      ],
      "text/plain": [
       "<IPython.core.display.Javascript object>"
      ]
     },
     "metadata": {},
     "output_type": "display_data"
    }
   ],
   "source": [
    "min_budget = 2\n",
    "max_budget = 10\n",
    "n_iter = 30"
   ]
  },
  {
   "cell_type": "code",
   "execution_count": null,
   "metadata": {},
   "outputs": [
    {
     "name": "stdout",
     "output_type": "stream",
     "text": [
      "Device used : cuda\n",
      "Device used : cuda\n",
      "Will train until validation stopping metric hasn't improved in 5 rounds.\n",
      "---------------------------------------\n",
      "| EPOCH |  train  |   valid  | total time (s)\n",
      "| 1     | 0.65526 |  0.50373 |   7.6       \n",
      "| 2     | 0.77002 |  0.60426 |   15.1      \n",
      "| 3     | 0.81314 |  0.64146 |   22.4      \n",
      "Training done in 22.370 seconds.\n",
      "---------------------------------------\n",
      "Device used : cuda\n",
      "Will train until validation stopping metric hasn't improved in 5 rounds.\n",
      "---------------------------------------\n",
      "| EPOCH |  train  |   valid  | total time (s)\n",
      "| 1     | 0.50783 |  0.44612 |   1.9       \n",
      "| 2     | 0.66699 |  0.43341 |   3.6       \n",
      "| 3     | 0.75022 |  0.54452 |   5.4       \n",
      "Training done in 5.429 seconds.\n",
      "---------------------------------------\n",
      "Device used : cuda\n",
      "Will train until validation stopping metric hasn't improved in 5 rounds.\n",
      "---------------------------------------\n",
      "| EPOCH |  train  |   valid  | total time (s)\n",
      "| 1     | 0.57686 |  0.50460 |   1.9       \n",
      "| 2     | 0.75043 |  0.53787 |   3.8       \n",
      "| 3     | 0.79490 |  0.47543 |   5.6       \n",
      "Training done in 5.618 seconds.\n",
      "---------------------------------------\n",
      "Device used : cuda\n",
      "Will train until validation stopping metric hasn't improved in 5 rounds.\n",
      "---------------------------------------\n",
      "| EPOCH |  train  |   valid  | total time (s)\n",
      "| 1     | 0.65526 |  0.50373 |   7.3       \n",
      "| 2     | 0.77002 |  0.60426 |   14.7      \n",
      "| 3     | 0.81314 |  0.64146 |   22.0      \n",
      "| 4     | 0.83939 |  0.60109 |   29.7      \n",
      "| 5     | 0.83948 |  0.56349 |   37.2      \n",
      "| 6     | 0.85130 |  0.74933 |   45.0      \n",
      "| 7     | 0.85426 |  0.68636 |   52.4      \n",
      "| 8     | 0.85834 |  0.73479 |   59.7      \n",
      "| 9     | 0.85966 |  0.72966 |   66.9      \n",
      "| 10    | 0.86319 |  0.77356 |   74.1      \n",
      "Training done in 74.088 seconds.\n",
      "---------------------------------------\n",
      "Device used : cuda\n",
      "Will train until validation stopping metric hasn't improved in 5 rounds.\n",
      "---------------------------------------\n",
      "| EPOCH |  train  |   valid  | total time (s)\n",
      "| 1     | 0.64572 |  0.53778 |   1.3       \n",
      "| 2     | 0.79859 |  0.49497 |   2.5       \n",
      "| 3     | 0.82440 |  0.56516 |   3.8       \n",
      "| 4     | 0.84769 |  0.55187 |   5.1       \n",
      "| 5     | 0.85410 |  0.59373 |   6.3       \n",
      "| 6     | 0.85840 |  0.59208 |   7.6       \n",
      "| 7     | 0.86080 |  0.57747 |   8.9       \n",
      "| 8     | 0.85963 |  0.60114 |   10.1      \n",
      "| 9     | 0.86144 |  0.60149 |   11.4      \n",
      "| 10    | 0.86097 |  0.63842 |   12.7      \n",
      "Training done in 12.678 seconds.\n",
      "---------------------------------------\n",
      "Device used : cuda\n",
      "Will train until validation stopping metric hasn't improved in 5 rounds.\n",
      "---------------------------------------\n",
      "| EPOCH |  train  |   valid  | total time (s)\n",
      "| 1     | 0.68233 |  0.60249 |   2.9       \n",
      "| 2     | 0.78264 |  0.45666 |   5.7       \n",
      "| 3     | 0.78022 |  0.49742 |   8.5       \n",
      "| 4     | 0.78994 |  0.42260 |   11.2      \n",
      "| 5     | 0.81879 |  0.51119 |   14.1      \n",
      "| 6     | 0.82213 |  0.55567 |   16.8      \n",
      "Early stopping occured at epoch 6\n",
      "Training done in 16.823 seconds.\n",
      "---------------------------------------\n",
      "Device used : cuda\n",
      "Will train until validation stopping metric hasn't improved in 5 rounds.\n",
      "---------------------------------------\n",
      "| EPOCH |  train  |   valid  | total time (s)\n",
      "| 1     | 0.48379 |  0.47253 |   3.5       \n",
      "| 2     | 0.64033 |  0.44491 |   7.1       \n",
      "| 3     | 0.72507 |  0.48878 |   10.7      \n",
      "Training done in 10.684 seconds.\n",
      "---------------------------------------\n",
      "Device used : cuda\n",
      "Will train until validation stopping metric hasn't improved in 5 rounds.\n",
      "---------------------------------------\n",
      "| EPOCH |  train  |   valid  | total time (s)\n",
      "| 1     | 0.73875 |  0.65382 |   2.5       \n",
      "| 2     | 0.81844 |  0.59210 |   5.1       \n",
      "| 3     | 0.83615 |  0.62100 |   7.5       \n",
      "Training done in 7.488 seconds.\n",
      "---------------------------------------\n",
      "Device used : cuda\n",
      "Will train until validation stopping metric hasn't improved in 5 rounds.\n",
      "---------------------------------------\n",
      "| EPOCH |  train  |   valid  | total time (s)\n",
      "| 1     | 0.51874 |  0.52730 |   5.3       \n",
      "| 2     | 0.62510 |  0.55545 |   10.7      \n",
      "| 3     | 0.68003 |  0.57571 |   16.0      \n",
      "Training done in 15.956 seconds.\n",
      "---------------------------------------\n",
      "Device used : cuda\n",
      "Will train until validation stopping metric hasn't improved in 5 rounds.\n",
      "---------------------------------------\n",
      "| EPOCH |  train  |   valid  | total time (s)\n",
      "| 1     | 0.73875 |  0.65382 |   2.5       \n",
      "| 2     | 0.81844 |  0.59210 |   5.1       \n",
      "| 3     | 0.83615 |  0.62100 |   7.7       \n",
      "| 4     | 0.84623 |  0.68906 |   10.1      \n",
      "| 5     | 0.84484 |  0.73989 |   12.5      \n",
      "| 6     | 0.84560 |  0.78472 |   15.0      \n",
      "| 7     | 0.85230 |  0.81659 |   17.6      \n",
      "| 8     | 0.85972 |  0.83612 |   20.2      \n",
      "| 9     | 0.86260 |  0.85406 |   22.8      \n",
      "| 10    | 0.86946 |  0.85981 |   25.3      \n",
      "Training done in 25.332 seconds.\n",
      "---------------------------------------\n",
      "Device used : cuda\n",
      "Will train until validation stopping metric hasn't improved in 5 rounds.\n",
      "---------------------------------------\n",
      "| EPOCH |  train  |   valid  | total time (s)\n",
      "| 1     | 0.59235 |  0.47875 |   3.3       \n",
      "| 2     | 0.69790 |  0.52545 |   6.7       \n",
      "| 3     | 0.76030 |  0.54815 |   10.2      \n",
      "| 4     | 0.78610 |  0.48880 |   13.3      \n",
      "| 5     | 0.80789 |  0.48811 |   16.5      \n",
      "| 6     | 0.81488 |  0.56162 |   19.7      \n",
      "| 7     | 0.82068 |  0.69569 |   22.9      \n",
      "| 8     | 0.83092 |  0.65341 |   26.1      \n",
      "| 9     | 0.84039 |  0.62300 |   29.2      \n",
      "| 10    | 0.84412 |  0.60515 |   32.4      \n",
      "Training done in 32.439 seconds.\n",
      "---------------------------------------\n",
      "Device used : cuda\n",
      "Will train until validation stopping metric hasn't improved in 5 rounds.\n",
      "---------------------------------------\n",
      "| EPOCH |  train  |   valid  | total time (s)\n",
      "| 1     | 0.72751 |  0.55039 |   1.8       \n",
      "| 2     | 0.81669 |  0.61295 |   3.7       \n",
      "| 3     | 0.82958 |  0.65021 |   5.5       \n",
      "| 4     | 0.84921 |  0.64957 |   7.4       \n",
      "| 5     | 0.85087 |  0.61705 |   9.3       \n",
      "| 6     | 0.85331 |  0.62629 |   11.2      \n",
      "| 7     | 0.85818 |  0.65943 |   13.1      \n",
      "| 8     | 0.85404 |  0.71094 |   15.0      \n",
      "| 9     | 0.86174 |  0.75174 |   16.9      \n",
      "| 10    | 0.86699 |  0.80191 |   18.9      \n",
      "Training done in 18.868 seconds.\n",
      "---------------------------------------\n",
      "Device used : cuda\n",
      "Will train until validation stopping metric hasn't improved in 5 rounds.\n",
      "---------------------------------------\n",
      "| EPOCH |  train  |   valid  | total time (s)\n",
      "| 1     | 0.47648 |  0.49294 |   3.5       \n",
      "| 2     | 0.49485 |  0.45043 |   7.1       \n",
      "| 3     | 0.66768 |  0.48094 |   10.7      \n",
      "Training done in 10.704 seconds.\n",
      "---------------------------------------\n",
      "Device used : cuda\n",
      "Will train until validation stopping metric hasn't improved in 5 rounds.\n",
      "---------------------------------------\n",
      "| EPOCH |  train  |   valid  | total time (s)\n",
      "| 1     | 0.71228 |  0.57366 |   3.8       \n",
      "| 2     | 0.79537 |  0.48534 |   7.4       \n",
      "| 3     | 0.78920 |  0.59506 |   11.1      \n",
      "Training done in 11.063 seconds.\n",
      "---------------------------------------\n",
      "Device used : cuda\n",
      "Will train until validation stopping metric hasn't improved in 5 rounds.\n",
      "---------------------------------------\n",
      "| EPOCH |  train  |   valid  | total time (s)\n",
      "| 1     | 0.68657 |  0.56216 |   1.3       \n",
      "| 2     | 0.81930 |  0.64847 |   2.5       \n",
      "| 3     | 0.84481 |  0.67390 |   3.8       \n",
      "Training done in 3.752 seconds.\n",
      "---------------------------------------\n",
      "Device used : cuda\n",
      "Will train until validation stopping metric hasn't improved in 5 rounds.\n",
      "---------------------------------------\n",
      "| EPOCH |  train  |   valid  | total time (s)\n",
      "| 1     | 0.68657 |  0.56216 |   1.2       \n",
      "| 2     | 0.81930 |  0.64847 |   2.5       \n",
      "| 3     | 0.84481 |  0.67390 |   3.8       \n",
      "| 4     | 0.85458 |  0.68291 |   5.1       \n",
      "| 5     | 0.86162 |  0.70291 |   6.5       \n",
      "| 6     | 0.86702 |  0.71181 |   7.8       \n",
      "| 7     | 0.87097 |  0.72298 |   9.1       \n",
      "| 8     | 0.87296 |  0.71562 |   10.4      \n",
      "| 9     | 0.87550 |  0.71145 |   11.8      \n",
      "| 10    | 0.87659 |  0.70231 |   13.0      \n",
      "Training done in 13.034 seconds.\n",
      "---------------------------------------\n",
      "Device used : cuda\n",
      "Will train until validation stopping metric hasn't improved in 5 rounds.\n",
      "---------------------------------------\n",
      "| EPOCH |  train  |   valid  | total time (s)\n"
     ]
    },
    {
     "name": "stdout",
     "output_type": "stream",
     "text": [
      "| 1     | 0.61986 |  0.43036 |   3.1       \n",
      "| 2     | 0.71401 |  0.57173 |   6.3       \n",
      "| 3     | 0.73260 |  0.53650 |   9.4       \n",
      "| 4     | 0.75294 |  0.40455 |   12.4      \n",
      "| 5     | 0.74352 |  0.57375 |   15.3      \n",
      "| 6     | 0.80416 |  0.56700 |   18.1      \n",
      "| 7     | 0.80772 |  0.58253 |   20.8      \n",
      "| 8     | 0.80031 |  0.58828 |   23.9      \n",
      "| 9     | 0.79055 |  0.54962 |   26.7      \n",
      "| 10    | 0.83528 |  0.50640 |   29.6      \n",
      "Training done in 29.627 seconds.\n",
      "---------------------------------------\n",
      "Device used : cuda\n",
      "Will train until validation stopping metric hasn't improved in 5 rounds.\n",
      "---------------------------------------\n",
      "| EPOCH |  train  |   valid  | total time (s)\n",
      "| 1     | 0.61574 |  0.57976 |   7.3       \n",
      "| 2     | 0.77744 |  0.52757 |   13.5      \n",
      "| 3     | 0.81024 |  0.66992 |   20.6      \n",
      "| 4     | 0.84152 |  0.77662 |   27.6      \n",
      "| 5     | 0.85905 |  0.80608 |   34.6      \n",
      "| 6     | 0.86350 |  0.83523 |   41.2      \n",
      "| 7     | 0.86396 |  0.84063 |   48.1      \n",
      "| 8     | 0.86401 |  0.84274 |   54.5      \n",
      "| 9     | 0.86271 |  0.85828 |   61.1      \n",
      "| 10    | 0.87006 |  0.87045 |   67.4      \n",
      "Training done in 67.352 seconds.\n",
      "---------------------------------------\n",
      "Device used : cuda\n",
      "Will train until validation stopping metric hasn't improved in 5 rounds.\n",
      "---------------------------------------\n",
      "| EPOCH |  train  |   valid  | total time (s)\n",
      "| 1     | 0.54076 |  0.55349 |   7.0       \n",
      "| 2     | 0.62344 |  0.55887 |   14.2      \n",
      "| 3     | 0.69397 |  0.44233 |   21.2      \n",
      "Training done in 21.234 seconds.\n",
      "---------------------------------------\n",
      "Device used : cuda\n",
      "Will train until validation stopping metric hasn't improved in 5 rounds.\n",
      "---------------------------------------\n",
      "| EPOCH |  train  |   valid  | total time (s)\n",
      "| 1     | 0.66881 |  0.37640 |   1.9       \n",
      "| 2     | 0.78925 |  0.54247 |   3.6       \n",
      "| 3     | 0.71937 |  0.51266 |   5.4       \n",
      "Training done in 5.429 seconds.\n",
      "---------------------------------------\n",
      "Device used : cuda\n",
      "Will train until validation stopping metric hasn't improved in 5 rounds.\n",
      "---------------------------------------\n",
      "| EPOCH |  train  |   valid  | total time (s)\n",
      "| 1     | 0.52624 |  0.48437 |   7.9       \n",
      "| 2     | 0.56885 |  0.47377 |   15.4      \n",
      "| 3     | 0.63419 |  0.60180 |   23.1      \n",
      "Training done in 23.146 seconds.\n",
      "---------------------------------------\n",
      "Device used : cuda\n",
      "Will train until validation stopping metric hasn't improved in 5 rounds.\n",
      "---------------------------------------\n",
      "| EPOCH |  train  |   valid  | total time (s)\n",
      "| 1     | 0.52624 |  0.48437 |   7.9       \n",
      "| 2     | 0.56885 |  0.47377 |   15.6      \n",
      "| 3     | 0.63419 |  0.60180 |   23.7      \n",
      "| 4     | 0.66272 |  0.52152 |   31.1      \n",
      "| 5     | 0.68123 |  0.45022 |   38.5      \n",
      "| 6     | 0.70178 |  0.55474 |   46.0      \n",
      "| 7     | 0.68789 |  0.56436 |   53.4      \n",
      "| 8     | 0.70772 |  0.57892 |   60.8      \n",
      "Early stopping occured at epoch 8\n",
      "Training done in 60.754 seconds.\n",
      "---------------------------------------\n",
      "Device used : cuda\n",
      "Will train until validation stopping metric hasn't improved in 5 rounds.\n",
      "---------------------------------------\n",
      "| EPOCH |  train  |   valid  | total time (s)\n",
      "| 1     | 0.61533 |  0.50035 |   4.9       \n",
      "| 2     | 0.73281 |  0.54312 |   9.8       \n",
      "| 3     | 0.73787 |  0.48357 |   14.7      \n",
      "| 4     | 0.77447 |  0.46582 |   19.6      \n",
      "| 5     | 0.78570 |  0.53728 |   24.3      \n",
      "| 6     | 0.82101 |  0.46044 |   29.1      \n",
      "| 7     | 0.81442 |  0.55652 |   34.2      \n",
      "| 8     | 0.83749 |  0.54187 |   39.3      \n",
      "| 9     | 0.83371 |  0.57285 |   44.3      \n",
      "| 10    | 0.83719 |  0.63681 |   49.6      \n",
      "Training done in 49.643 seconds.\n",
      "---------------------------------------\n",
      "Device used : cuda\n",
      "Will train until validation stopping metric hasn't improved in 5 rounds.\n",
      "---------------------------------------\n",
      "| EPOCH |  train  |   valid  | total time (s)\n",
      "| 1     | 0.63049 |  0.47545 |   2.6       \n",
      "| 2     | 0.75443 |  0.60341 |   5.2       \n",
      "| 3     | 0.80527 |  0.46783 |   7.7       \n",
      "| 4     | 0.83179 |  0.54163 |   10.2      \n",
      "| 5     | 0.85779 |  0.55680 |   12.8      \n",
      "| 6     | 0.86003 |  0.52413 |   15.3      \n",
      "| 7     | 0.86325 |  0.61230 |   17.8      \n",
      "| 8     | 0.85962 |  0.63383 |   20.3      \n",
      "| 9     | 0.85722 |  0.68054 |   22.8      \n",
      "| 10    | 0.86977 |  0.72623 |   25.4      \n",
      "Training done in 25.387 seconds.\n",
      "---------------------------------------\n",
      "Device used : cuda\n",
      "Will train until validation stopping metric hasn't improved in 5 rounds.\n",
      "---------------------------------------\n",
      "| EPOCH |  train  |   valid  | total time (s)\n",
      "| 1     | 0.67092 |  0.45599 |   5.6       \n",
      "| 2     | 0.75729 |  0.45904 |   11.2      \n",
      "| 3     | 0.80274 |  0.39934 |   16.9      \n",
      "Training done in 16.936 seconds.\n",
      "---------------------------------------\n",
      "Device used : cuda\n",
      "Will train until validation stopping metric hasn't improved in 5 rounds.\n",
      "---------------------------------------\n",
      "| EPOCH |  train  |   valid  | total time (s)\n",
      "| 1     | 0.62531 |  0.60080 |   4.7       \n",
      "| 2     | 0.76849 |  0.56473 |   9.1       \n",
      "| 3     | 0.79718 |  0.58140 |   14.1      \n",
      "Training done in 14.104 seconds.\n",
      "---------------------------------------\n",
      "Device used : cuda\n",
      "Will train until validation stopping metric hasn't improved in 5 rounds.\n",
      "---------------------------------------\n",
      "| EPOCH |  train  |   valid  | total time (s)\n",
      "| 1     | 0.65435 |  0.44252 |   2.2       \n",
      "| 2     | 0.79830 |  0.36155 |   4.2       \n",
      "| 3     | 0.83148 |  0.44786 |   6.3       \n",
      "Training done in 6.280 seconds.\n",
      "---------------------------------------\n",
      "Device used : cuda\n",
      "Will train until validation stopping metric hasn't improved in 5 rounds.\n",
      "---------------------------------------\n",
      "| EPOCH |  train  |   valid  | total time (s)\n",
      "| 1     | 0.62531 |  0.60080 |   5.0       \n",
      "| 2     | 0.76849 |  0.56473 |   10.1      \n",
      "| 3     | 0.79718 |  0.58140 |   15.3      \n",
      "| 4     | 0.81562 |  0.60766 |   20.2      \n",
      "| 5     | 0.83046 |  0.68708 |   25.2      \n",
      "| 6     | 0.83311 |  0.76424 |   30.1      \n",
      "| 7     | 0.84357 |  0.71164 |   34.9      \n",
      "| 8     | 0.84800 |  0.77415 |   39.7      \n",
      "| 9     | 0.85062 |  0.74142 |   44.6      \n",
      "| 10    | 0.84823 |  0.79143 |   49.6      \n",
      "Training done in 49.604 seconds.\n",
      "---------------------------------------\n",
      "Device used : cuda\n",
      "Will train until validation stopping metric hasn't improved in 5 rounds.\n",
      "---------------------------------------\n",
      "| EPOCH |  train  |   valid  | total time (s)\n",
      "| 1     | 0.73660 |  0.58263 |   5.8       \n",
      "| 2     | 0.78702 |  0.68845 |   11.7      \n",
      "| 3     | 0.84180 |  0.72764 |   18.1      \n",
      "| 4     | 0.85902 |  0.74462 |   24.4      \n",
      "| 5     | 0.86636 |  0.81555 |   30.4      \n",
      "| 6     | 0.86782 |  0.85497 |   36.5      \n",
      "| 7     | 0.87321 |  0.85859 |   43.0      \n",
      "| 8     | 0.87864 |  0.86649 |   48.9      \n",
      "| 9     | 0.87762 |  0.87755 |   54.9      \n",
      "| 10    | 0.88363 |  0.87917 |   60.9      \n",
      "Training done in 60.871 seconds.\n",
      "---------------------------------------\n",
      "Device used : cuda\n",
      "Will train until validation stopping metric hasn't improved in 5 rounds.\n",
      "---------------------------------------\n",
      "| EPOCH |  train  |   valid  | total time (s)\n",
      "| 1     | 0.77278 |  0.45221 |   3.4       \n",
      "| 2     | 0.83852 |  0.64197 |   6.8       \n",
      "| 3     | 0.85495 |  0.75350 |   10.0      \n",
      "| 4     | 0.86176 |  0.77465 |   13.3      \n",
      "| 5     | 0.86982 |  0.83515 |   16.4      \n",
      "| 6     | 0.87426 |  0.85528 |   19.5      \n",
      "| 7     | 0.87783 |  0.86995 |   23.0      \n",
      "| 8     | 0.88069 |  0.88091 |   26.4      \n",
      "| 9     | 0.88542 |  0.88004 |   29.5      \n",
      "| 10    | 0.88484 |  0.88359 |   33.0      \n",
      "Training done in 33.034 seconds.\n",
      "---------------------------------------\n",
      "Device used : cuda\n",
      "Will train until validation stopping metric hasn't improved in 5 rounds.\n",
      "---------------------------------------\n",
      "| EPOCH |  train  |   valid  | total time (s)\n",
      "| 1     | 0.65395 |  0.51431 |   2.9       \n",
      "| 2     | 0.74429 |  0.55941 |   5.6       \n",
      "| 3     | 0.79042 |  0.50818 |   8.3       \n",
      "Training done in 8.308 seconds.\n",
      "---------------------------------------\n",
      "Device used : cuda\n",
      "Will train until validation stopping metric hasn't improved in 5 rounds.\n",
      "---------------------------------------\n",
      "| EPOCH |  train  |   valid  | total time (s)\n",
      "| 1     | 0.55261 |  0.49968 |   2.6       \n"
     ]
    },
    {
     "name": "stdout",
     "output_type": "stream",
     "text": [
      "| 2     | 0.68588 |  0.51575 |   5.3       \n",
      "| 3     | 0.72846 |  0.49432 |   7.8       \n",
      "Training done in 7.804 seconds.\n",
      "---------------------------------------\n",
      "Device used : cuda\n",
      "Will train until validation stopping metric hasn't improved in 5 rounds.\n",
      "---------------------------------------\n",
      "| EPOCH |  train  |   valid  | total time (s)\n",
      "| 1     | 0.70173 |  0.62870 |   3.1       \n",
      "| 2     | 0.78914 |  0.54646 |   6.0       \n",
      "| 3     | 0.81399 |  0.59389 |   9.0       \n",
      "Training done in 8.966 seconds.\n",
      "---------------------------------------\n",
      "Device used : cuda\n",
      "Will train until validation stopping metric hasn't improved in 5 rounds.\n",
      "---------------------------------------\n",
      "| EPOCH |  train  |   valid  | total time (s)\n",
      "| 1     | 0.70173 |  0.62870 |   2.9       \n",
      "| 2     | 0.78914 |  0.54646 |   5.8       \n",
      "| 3     | 0.81399 |  0.59389 |   8.8       \n",
      "| 4     | 0.84063 |  0.56106 |   11.7      \n",
      "| 5     | 0.84653 |  0.50055 |   14.6      \n",
      "| 6     | 0.85923 |  0.47822 |   17.5      \n",
      "Early stopping occured at epoch 6\n",
      "Training done in 17.452 seconds.\n",
      "---------------------------------------\n",
      "Device used : cuda\n",
      "Will train until validation stopping metric hasn't improved in 5 rounds.\n",
      "---------------------------------------\n",
      "| EPOCH |  train  |   valid  | total time (s)\n",
      "| 1     | 0.55840 |  0.51774 |   2.2       \n",
      "| 2     | 0.75210 |  0.53360 |   4.4       \n",
      "| 3     | 0.80208 |  0.49144 |   6.6       \n",
      "| 4     | 0.81785 |  0.56796 |   8.8       \n",
      "| 5     | 0.84006 |  0.56018 |   11.0      \n",
      "| 6     | 0.85207 |  0.58729 |   13.2      \n",
      "| 7     | 0.85588 |  0.62475 |   15.4      \n"
     ]
    }
   ],
   "source": [
    "%%time\n",
    "result = tuner.fit(\n",
    "    X_train, y_train, X_valid, y_valid, X_test, y_test, n_iter, min_budget, max_budget\n",
    ")\n",
    "result"
   ]
  },
  {
   "cell_type": "code",
   "execution_count": null,
   "metadata": {},
   "outputs": [],
   "source": [
    "%matplotlib inline\n",
    "tuner.describe_results()"
   ]
  },
  {
   "cell_type": "code",
   "execution_count": null,
   "metadata": {},
   "outputs": [],
   "source": [
    "result[\"best_params\"]"
   ]
  },
  {
   "cell_type": "code",
   "execution_count": null,
   "metadata": {},
   "outputs": [],
   "source": [
    "from pytorch_tabnet.tab_model import TabNetClassifier\n",
    "\n",
    "fit_params = {}\n",
    "model_params = {}\n",
    "for key, value in result[\"best_params\"].items():\n",
    "    if key in [\"batch_size\", \"num_workers\", \"patience\", \"virtual_batch_size\"]:\n",
    "        fit_params[key] = value\n",
    "    else:\n",
    "        model_params[key] = value\n",
    "fit_params.pop(\"patience\")\n",
    "clf = TabNetClassifier(**model_params)\n",
    "clf.fit(X_train, y_train, X_valid=X_valid, y_valid=y_valid, **fit_params, patience=20)"
   ]
  },
  {
   "cell_type": "code",
   "execution_count": null,
   "metadata": {},
   "outputs": [],
   "source": [
    "roc_auc_score(y_score=clf.predict_proba(X_train)[:, 1], y_true=y_train)"
   ]
  },
  {
   "cell_type": "code",
   "execution_count": null,
   "metadata": {},
   "outputs": [],
   "source": [
    "roc_auc_score(y_score=clf.predict_proba(X_valid)[:, 1], y_true=y_valid)"
   ]
  },
  {
   "cell_type": "code",
   "execution_count": null,
   "metadata": {},
   "outputs": [],
   "source": [
    "roc_auc_score(y_score=clf.predict_proba(X_test)[:, 1], y_true=y_test)"
   ]
  },
  {
   "cell_type": "code",
   "execution_count": null,
   "metadata": {},
   "outputs": [],
   "source": []
  }
 ],
 "metadata": {
  "kernelspec": {
   "display_name": "Python 3",
   "language": "python",
   "name": "python3"
  },
  "language_info": {
   "codemirror_mode": {
    "name": "ipython",
    "version": 3
   },
   "file_extension": ".py",
   "mimetype": "text/x-python",
   "name": "python",
   "nbconvert_exporter": "python",
   "pygments_lexer": "ipython3",
   "version": "3.7.7"
  }
 },
 "nbformat": 4,
 "nbformat_minor": 2
}
