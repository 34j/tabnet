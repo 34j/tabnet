{
 "cells": [
  {
   "cell_type": "code",
   "execution_count": 1,
   "metadata": {},
   "outputs": [],
   "source": [
    "from pytorch_tabnet.tab_model import TabNetRegressor\n",
    "\n",
    "import torch\n",
    "from sklearn.preprocessing import LabelEncoder\n",
    "from sklearn.metrics import mean_squared_error\n",
    "from math import *\n",
    "\n",
    "import pandas as pd\n",
    "import numpy as np\n",
    "np.random.seed(0)\n",
    "\n",
    "\n",
    "import os\n",
    "import wget\n",
    "from pathlib import Path\n",
    "pd.set_option('display.max_columns', 500)"
   ]
  },
  {
   "cell_type": "markdown",
   "metadata": {},
   "source": [
    "# Download census-income dataset"
   ]
  },
  {
   "cell_type": "code",
   "execution_count": 26,
   "metadata": {},
   "outputs": [],
   "source": [
    "# url = \"https://archive.ics.uci.edu/ml/machine-learning-databases/adult/adult.data\"\n",
    "dataset_name = 'DreamQuarkTabNet'\n",
    "# out = Path(os.getcwd().rsplit(\"/\",  1)[0]+'/data/'+dataset_name+'.csv')"
   ]
  },
  {
   "cell_type": "code",
   "execution_count": 3,
   "metadata": {},
   "outputs": [],
   "source": [
    "# out.parent.mkdir(parents=True, exist_ok=True)\n",
    "# if out.exists():\n",
    "#     print(\"File already exists.\")\n",
    "# else:\n",
    "#     print(\"Downloading file...\")\n",
    "#     wget.download(url, out.as_posix())"
   ]
  },
  {
   "cell_type": "markdown",
   "metadata": {},
   "source": [
    "# Load data and split"
   ]
  },
  {
   "cell_type": "code",
   "execution_count": 4,
   "metadata": {},
   "outputs": [],
   "source": [
    "train = pd.read_csv('data/train_preprocessed.csv', sep='\\t')"
   ]
  },
  {
   "cell_type": "code",
   "execution_count": 5,
   "metadata": {},
   "outputs": [
    {
     "data": {
      "text/html": [
       "<div>\n",
       "<style scoped>\n",
       "    .dataframe tbody tr th:only-of-type {\n",
       "        vertical-align: middle;\n",
       "    }\n",
       "\n",
       "    .dataframe tbody tr th {\n",
       "        vertical-align: top;\n",
       "    }\n",
       "\n",
       "    .dataframe thead th {\n",
       "        text-align: right;\n",
       "    }\n",
       "</style>\n",
       "<table border=\"1\" class=\"dataframe\">\n",
       "  <thead>\n",
       "    <tr style=\"text-align: right;\">\n",
       "      <th></th>\n",
       "      <th>Store</th>\n",
       "      <th>DayOfWeek</th>\n",
       "      <th>Sales</th>\n",
       "      <th>Customers</th>\n",
       "      <th>Open</th>\n",
       "      <th>Promo</th>\n",
       "      <th>StateHoliday</th>\n",
       "      <th>SchoolHoliday</th>\n",
       "      <th>Year</th>\n",
       "      <th>Month</th>\n",
       "      <th>Day</th>\n",
       "      <th>StoreType</th>\n",
       "      <th>Assortment</th>\n",
       "      <th>CompetitionDistance</th>\n",
       "      <th>CompetitionOpenSinceMonth</th>\n",
       "      <th>CompetitionOpenSinceYear</th>\n",
       "      <th>Promo2</th>\n",
       "      <th>Promo2SinceWeek</th>\n",
       "      <th>Promo2SinceYear</th>\n",
       "      <th>Promo2Start_Jan</th>\n",
       "      <th>Promo2Start_Feb</th>\n",
       "      <th>Promo2Start_Mar</th>\n",
       "      <th>Promo2Start_Apr</th>\n",
       "      <th>Promo2Start_May</th>\n",
       "      <th>Promo2Start_Jun</th>\n",
       "      <th>Promo2Start_Jul</th>\n",
       "      <th>Promo2Start_Aug</th>\n",
       "      <th>Promo2Start_Sept</th>\n",
       "      <th>Promo2Start_Oct</th>\n",
       "      <th>Promo2Start_Nov</th>\n",
       "      <th>Promo2Start_Dec</th>\n",
       "    </tr>\n",
       "  </thead>\n",
       "  <tbody>\n",
       "    <tr>\n",
       "      <th>0</th>\n",
       "      <td>1</td>\n",
       "      <td>3</td>\n",
       "      <td>2605</td>\n",
       "      <td>327</td>\n",
       "      <td>1</td>\n",
       "      <td>0</td>\n",
       "      <td>1</td>\n",
       "      <td>1</td>\n",
       "      <td>2014</td>\n",
       "      <td>12</td>\n",
       "      <td>31</td>\n",
       "      <td>1</td>\n",
       "      <td>1</td>\n",
       "      <td>570.0</td>\n",
       "      <td>11.0</td>\n",
       "      <td>2007.0</td>\n",
       "      <td>1.0</td>\n",
       "      <td>13.0</td>\n",
       "      <td>2010.0</td>\n",
       "      <td>1</td>\n",
       "      <td>0</td>\n",
       "      <td>0</td>\n",
       "      <td>1</td>\n",
       "      <td>0</td>\n",
       "      <td>0</td>\n",
       "      <td>1</td>\n",
       "      <td>0</td>\n",
       "      <td>0</td>\n",
       "      <td>1</td>\n",
       "      <td>0</td>\n",
       "      <td>0</td>\n",
       "    </tr>\n",
       "    <tr>\n",
       "      <th>1</th>\n",
       "      <td>2</td>\n",
       "      <td>3</td>\n",
       "      <td>2269</td>\n",
       "      <td>252</td>\n",
       "      <td>1</td>\n",
       "      <td>0</td>\n",
       "      <td>1</td>\n",
       "      <td>1</td>\n",
       "      <td>2014</td>\n",
       "      <td>12</td>\n",
       "      <td>31</td>\n",
       "      <td>1</td>\n",
       "      <td>1</td>\n",
       "      <td>14130.0</td>\n",
       "      <td>12.0</td>\n",
       "      <td>2006.0</td>\n",
       "      <td>1.0</td>\n",
       "      <td>14.0</td>\n",
       "      <td>2011.0</td>\n",
       "      <td>1</td>\n",
       "      <td>0</td>\n",
       "      <td>0</td>\n",
       "      <td>1</td>\n",
       "      <td>0</td>\n",
       "      <td>0</td>\n",
       "      <td>1</td>\n",
       "      <td>0</td>\n",
       "      <td>0</td>\n",
       "      <td>1</td>\n",
       "      <td>0</td>\n",
       "      <td>0</td>\n",
       "    </tr>\n",
       "    <tr>\n",
       "      <th>2</th>\n",
       "      <td>3</td>\n",
       "      <td>3</td>\n",
       "      <td>3804</td>\n",
       "      <td>408</td>\n",
       "      <td>1</td>\n",
       "      <td>0</td>\n",
       "      <td>1</td>\n",
       "      <td>1</td>\n",
       "      <td>2014</td>\n",
       "      <td>12</td>\n",
       "      <td>31</td>\n",
       "      <td>3</td>\n",
       "      <td>3</td>\n",
       "      <td>620.0</td>\n",
       "      <td>9.0</td>\n",
       "      <td>2009.0</td>\n",
       "      <td>0.0</td>\n",
       "      <td>0.0</td>\n",
       "      <td>0.0</td>\n",
       "      <td>0</td>\n",
       "      <td>0</td>\n",
       "      <td>0</td>\n",
       "      <td>0</td>\n",
       "      <td>0</td>\n",
       "      <td>0</td>\n",
       "      <td>0</td>\n",
       "      <td>0</td>\n",
       "      <td>0</td>\n",
       "      <td>0</td>\n",
       "      <td>0</td>\n",
       "      <td>0</td>\n",
       "    </tr>\n",
       "    <tr>\n",
       "      <th>3</th>\n",
       "      <td>4</td>\n",
       "      <td>3</td>\n",
       "      <td>10152</td>\n",
       "      <td>1311</td>\n",
       "      <td>1</td>\n",
       "      <td>0</td>\n",
       "      <td>1</td>\n",
       "      <td>1</td>\n",
       "      <td>2014</td>\n",
       "      <td>12</td>\n",
       "      <td>31</td>\n",
       "      <td>1</td>\n",
       "      <td>1</td>\n",
       "      <td>29910.0</td>\n",
       "      <td>4.0</td>\n",
       "      <td>2015.0</td>\n",
       "      <td>0.0</td>\n",
       "      <td>0.0</td>\n",
       "      <td>0.0</td>\n",
       "      <td>0</td>\n",
       "      <td>0</td>\n",
       "      <td>0</td>\n",
       "      <td>0</td>\n",
       "      <td>0</td>\n",
       "      <td>0</td>\n",
       "      <td>0</td>\n",
       "      <td>0</td>\n",
       "      <td>0</td>\n",
       "      <td>0</td>\n",
       "      <td>0</td>\n",
       "      <td>0</td>\n",
       "    </tr>\n",
       "    <tr>\n",
       "      <th>4</th>\n",
       "      <td>5</td>\n",
       "      <td>3</td>\n",
       "      <td>1830</td>\n",
       "      <td>217</td>\n",
       "      <td>1</td>\n",
       "      <td>0</td>\n",
       "      <td>1</td>\n",
       "      <td>1</td>\n",
       "      <td>2014</td>\n",
       "      <td>12</td>\n",
       "      <td>31</td>\n",
       "      <td>1</td>\n",
       "      <td>1</td>\n",
       "      <td>310.0</td>\n",
       "      <td>12.0</td>\n",
       "      <td>2013.0</td>\n",
       "      <td>0.0</td>\n",
       "      <td>0.0</td>\n",
       "      <td>0.0</td>\n",
       "      <td>0</td>\n",
       "      <td>0</td>\n",
       "      <td>0</td>\n",
       "      <td>0</td>\n",
       "      <td>0</td>\n",
       "      <td>0</td>\n",
       "      <td>0</td>\n",
       "      <td>0</td>\n",
       "      <td>0</td>\n",
       "      <td>0</td>\n",
       "      <td>0</td>\n",
       "      <td>0</td>\n",
       "    </tr>\n",
       "  </tbody>\n",
       "</table>\n",
       "</div>"
      ],
      "text/plain": [
       "   Store  DayOfWeek  Sales  Customers  Open  Promo  StateHoliday  \\\n",
       "0      1          3   2605        327     1      0             1   \n",
       "1      2          3   2269        252     1      0             1   \n",
       "2      3          3   3804        408     1      0             1   \n",
       "3      4          3  10152       1311     1      0             1   \n",
       "4      5          3   1830        217     1      0             1   \n",
       "\n",
       "   SchoolHoliday  Year  Month  Day  StoreType  Assortment  \\\n",
       "0              1  2014     12   31          1           1   \n",
       "1              1  2014     12   31          1           1   \n",
       "2              1  2014     12   31          3           3   \n",
       "3              1  2014     12   31          1           1   \n",
       "4              1  2014     12   31          1           1   \n",
       "\n",
       "   CompetitionDistance  CompetitionOpenSinceMonth  CompetitionOpenSinceYear  \\\n",
       "0                570.0                       11.0                    2007.0   \n",
       "1              14130.0                       12.0                    2006.0   \n",
       "2                620.0                        9.0                    2009.0   \n",
       "3              29910.0                        4.0                    2015.0   \n",
       "4                310.0                       12.0                    2013.0   \n",
       "\n",
       "   Promo2  Promo2SinceWeek  Promo2SinceYear  Promo2Start_Jan  Promo2Start_Feb  \\\n",
       "0     1.0             13.0           2010.0                1                0   \n",
       "1     1.0             14.0           2011.0                1                0   \n",
       "2     0.0              0.0              0.0                0                0   \n",
       "3     0.0              0.0              0.0                0                0   \n",
       "4     0.0              0.0              0.0                0                0   \n",
       "\n",
       "   Promo2Start_Mar  Promo2Start_Apr  Promo2Start_May  Promo2Start_Jun  \\\n",
       "0                0                1                0                0   \n",
       "1                0                1                0                0   \n",
       "2                0                0                0                0   \n",
       "3                0                0                0                0   \n",
       "4                0                0                0                0   \n",
       "\n",
       "   Promo2Start_Jul  Promo2Start_Aug  Promo2Start_Sept  Promo2Start_Oct  \\\n",
       "0                1                0                 0                1   \n",
       "1                1                0                 0                1   \n",
       "2                0                0                 0                0   \n",
       "3                0                0                 0                0   \n",
       "4                0                0                 0                0   \n",
       "\n",
       "   Promo2Start_Nov  Promo2Start_Dec  \n",
       "0                0                0  \n",
       "1                0                0  \n",
       "2                0                0  \n",
       "3                0                0  \n",
       "4                0                0  "
      ]
     },
     "execution_count": 5,
     "metadata": {},
     "output_type": "execute_result"
    }
   ],
   "source": [
    "train.head()"
   ]
  },
  {
   "cell_type": "code",
   "execution_count": 6,
   "metadata": {},
   "outputs": [],
   "source": [
    "test = pd.read_csv('data/test_preprocessed.csv', sep='\\t')\n",
    "test['Year'] = 2014"
   ]
  },
  {
   "cell_type": "code",
   "execution_count": 7,
   "metadata": {},
   "outputs": [],
   "source": [
    "target = 'Sales'\n",
    "if \"Set\" not in train.columns:\n",
    "    train[\"Set\"] = np.random.choice([\"train\", \"valid\", \"test\"], p =[.8, .1, .1], size=(train.shape[0],))\n",
    "\n",
    "train_indices = train[train.Set==\"train\"].index\n",
    "valid_indices = train[train.Set==\"valid\"].index\n",
    "test_indices = train[train.Set==\"test\"].index"
   ]
  },
  {
   "cell_type": "code",
   "execution_count": 8,
   "metadata": {},
   "outputs": [],
   "source": [
    "str_cols = ['Store', 'DayOfWeek', 'Month', 'Day', 'StoreType', 'Assortment', 'StateHoliday']\n",
    "for col in str_cols:\n",
    "    train[col] = train[col].astype(str)\n",
    "    test[col] = test[col].astype(str)"
   ]
  },
  {
   "cell_type": "markdown",
   "metadata": {},
   "source": [
    "# Simple preprocessing\n",
    "\n",
    "Label encode categorical features and fill empty cells."
   ]
  },
  {
   "cell_type": "code",
   "execution_count": 9,
   "metadata": {},
   "outputs": [
    {
     "name": "stdout",
     "output_type": "stream",
     "text": [
      "Store 1115\n",
      "DayOfWeek 7\n",
      "StateHoliday 5\n",
      "Month 12\n",
      "Day 31\n",
      "StoreType 5\n",
      "Assortment 4\n",
      "Set 3\n"
     ]
    }
   ],
   "source": [
    "categorical_columns = []\n",
    "categorical_dims =  {}\n",
    "for col in train.columns[train.dtypes == object]:\n",
    "    print(col, train[col].nunique())\n",
    "    l_enc = LabelEncoder()\n",
    "    train[col] = train[col].fillna(\"VV_likely\")\n",
    "    train[col] = l_enc.fit_transform(train[col].values)\n",
    "    \n",
    "    if col in test.columns:\n",
    "        test[col] = l_enc.transform(test[col].values)\n",
    "    \n",
    "    categorical_columns.append(col)\n",
    "    categorical_dims[col] = len(l_enc.classes_)\n",
    "\n",
    "for col in train.columns[train.dtypes == 'float64']:\n",
    "    col_mean = train.loc[train_indices, col].mean()\n",
    "    train.fillna(col_mean, inplace=True)\n",
    "    test.fillna(col_mean, inplace=True)"
   ]
  },
  {
   "cell_type": "markdown",
   "metadata": {},
   "source": [
    "# Define categorical features for categorical embeddings"
   ]
  },
  {
   "cell_type": "code",
   "execution_count": 10,
   "metadata": {},
   "outputs": [],
   "source": [
    "unused_feat = ['Set', 'Year']\n",
    "\n",
    "features = [ col for col in train.columns if col not in unused_feat+[target]] \n",
    "\n",
    "cat_idxs = [ i for i, f in enumerate(features) if f in categorical_columns]\n",
    "\n",
    "cat_dims = [ categorical_dims[f] for i, f in enumerate(features) if f in categorical_columns]\n"
   ]
  },
  {
   "cell_type": "markdown",
   "metadata": {},
   "source": [
    "# Network parameters"
   ]
  },
  {
   "cell_type": "code",
   "execution_count": 27,
   "metadata": {},
   "outputs": [
    {
     "name": "stdout",
     "output_type": "stream",
     "text": [
      "Device used : cuda\n"
     ]
    }
   ],
   "source": [
    "clf = TabNetRegressor(n_d=64, n_a=64, n_steps=5, gamma=1.5,\n",
    "                      momentum=0.1, lambda_sparse=1e-5,\n",
    "                      cat_idxs=cat_idxs, cat_dims=cat_dims)"
   ]
  },
  {
   "cell_type": "code",
   "execution_count": 28,
   "metadata": {},
   "outputs": [
    {
     "data": {
      "text/plain": [
       "TabNetRegressor(n_d=64, n_a=64, n_steps=5,\n",
       "                lr=0.02, seed=0,\n",
       "                gamma=1.5, n_independent=2, n_shared=2,\n",
       "                cat_idxs=[0, 1, 5, 7, 8, 9, 10],\n",
       "                cat_dims=[1115, 7, 5, 12, 31, 5, 4],\n",
       "                cat_emb_dim=1,\n",
       "                lambda_sparse=1e-05, momentum=0.1,\n",
       "                clip_value=1,\n",
       "                verbose=1, device_name=\"auto\",\n",
       "                model_name=\"DreamQuarkTabNet_regression\",\n",
       "                optimizer_fn=<class 'torch.optim.adam.Adam'>,\n",
       "                scheduler_params=None, scheduler_fn=None,\n",
       "                epsilon=1e-15, saving_path=\"./\")"
      ]
     },
     "execution_count": 28,
     "metadata": {},
     "output_type": "execute_result"
    }
   ],
   "source": [
    "clf"
   ]
  },
  {
   "cell_type": "markdown",
   "metadata": {},
   "source": [
    "# Training"
   ]
  },
  {
   "cell_type": "code",
   "execution_count": 23,
   "metadata": {},
   "outputs": [],
   "source": [
    "X_train = train[features].values[train_indices]\n",
    "y_train = train[target].values[train_indices]\n",
    "\n",
    "X_valid = train[features].values[valid_indices]\n",
    "y_valid = train[target].values[valid_indices]\n",
    "\n",
    "X_test = train[features].values[test_indices]\n",
    "y_test = train[target].values[test_indices]"
   ]
  },
  {
   "cell_type": "code",
   "execution_count": 24,
   "metadata": {},
   "outputs": [],
   "source": [
    "X_true_test = test[features].values\n",
    "y_true_test = test[target].values"
   ]
  },
  {
   "cell_type": "code",
   "execution_count": 25,
   "metadata": {
    "collapsed": true
   },
   "outputs": [
    {
     "name": "stderr",
     "output_type": "stream",
     "text": [
      "\r",
      "0it [00:00, ?it/s]"
     ]
    },
    {
     "name": "stdout",
     "output_type": "stream",
     "text": [
      "EPOCH : 0\n"
     ]
    },
    {
     "name": "stderr",
     "output_type": "stream",
     "text": [
      "0it [00:00, ?it/s]\n"
     ]
    },
    {
     "ename": "ValueError",
     "evalue": "operands could not be broadcast together with shapes (29,) (57,) (29,) ",
     "output_type": "error",
     "traceback": [
      "\u001b[0;31m---------------------------------------------------------------------------\u001b[0m",
      "\u001b[0;31mValueError\u001b[0m                                Traceback (most recent call last)",
      "\u001b[0;32m<ipython-input-25-4bdaff80cba0>\u001b[0m in \u001b[0;36m<module>\u001b[0;34m\u001b[0m\n\u001b[1;32m      3\u001b[0m     \u001b[0mX_valid\u001b[0m\u001b[0;34m=\u001b[0m\u001b[0mX_valid\u001b[0m\u001b[0;34m,\u001b[0m \u001b[0my_valid\u001b[0m\u001b[0;34m=\u001b[0m\u001b[0my_valid\u001b[0m\u001b[0;34m,\u001b[0m\u001b[0;34m\u001b[0m\u001b[0;34m\u001b[0m\u001b[0m\n\u001b[1;32m      4\u001b[0m     \u001b[0mmax_epochs\u001b[0m\u001b[0;34m=\u001b[0m\u001b[0;36m500\u001b[0m\u001b[0;34m,\u001b[0m \u001b[0mpatience\u001b[0m\u001b[0;34m=\u001b[0m\u001b[0;36m50\u001b[0m\u001b[0;34m,\u001b[0m\u001b[0;34m\u001b[0m\u001b[0;34m\u001b[0m\u001b[0m\n\u001b[0;32m----> 5\u001b[0;31m     \u001b[0mbatch_size\u001b[0m\u001b[0;34m=\u001b[0m\u001b[0;36m8192\u001b[0m\u001b[0;34m,\u001b[0m \u001b[0mvirtual_batch_size\u001b[0m\u001b[0;34m=\u001b[0m\u001b[0;36m256\u001b[0m\u001b[0;34m\u001b[0m\u001b[0;34m\u001b[0m\u001b[0m\n\u001b[0m\u001b[1;32m      6\u001b[0m ) \n",
      "\u001b[0;32m/work/pytorch_tabnet/tab_model.py\u001b[0m in \u001b[0;36mfit\u001b[0;34m(self, X_train, y_train, X_valid, y_valid, loss_fn, weights, max_epochs, patience, batch_size, virtual_batch_size)\u001b[0m\n\u001b[1;32m    144\u001b[0m                self.patience_counter < self.patience):\n\u001b[1;32m    145\u001b[0m             \u001b[0mprint\u001b[0m\u001b[0;34m(\u001b[0m\u001b[0;34mf\"EPOCH : {self.epoch}\"\u001b[0m\u001b[0;34m)\u001b[0m\u001b[0;34m\u001b[0m\u001b[0;34m\u001b[0m\u001b[0m\n\u001b[0;32m--> 146\u001b[0;31m             \u001b[0mfit_metrics\u001b[0m \u001b[0;34m=\u001b[0m \u001b[0mself\u001b[0m\u001b[0;34m.\u001b[0m\u001b[0mfit_epoch\u001b[0m\u001b[0;34m(\u001b[0m\u001b[0mtrain_dataloader\u001b[0m\u001b[0;34m,\u001b[0m \u001b[0mvalid_dataloader\u001b[0m\u001b[0;34m)\u001b[0m\u001b[0;34m\u001b[0m\u001b[0;34m\u001b[0m\u001b[0m\n\u001b[0m\u001b[1;32m    147\u001b[0m             \u001b[0mlosses_train\u001b[0m\u001b[0;34m.\u001b[0m\u001b[0mappend\u001b[0m\u001b[0;34m(\u001b[0m\u001b[0mfit_metrics\u001b[0m\u001b[0;34m[\u001b[0m\u001b[0;34m'train'\u001b[0m\u001b[0;34m]\u001b[0m\u001b[0;34m[\u001b[0m\u001b[0;34m'loss_avg'\u001b[0m\u001b[0;34m]\u001b[0m\u001b[0;34m)\u001b[0m\u001b[0;34m\u001b[0m\u001b[0;34m\u001b[0m\u001b[0m\n\u001b[1;32m    148\u001b[0m             \u001b[0mlosses_valid\u001b[0m\u001b[0;34m.\u001b[0m\u001b[0mappend\u001b[0m\u001b[0;34m(\u001b[0m\u001b[0mfit_metrics\u001b[0m\u001b[0;34m[\u001b[0m\u001b[0;34m'valid'\u001b[0m\u001b[0;34m]\u001b[0m\u001b[0;34m[\u001b[0m\u001b[0;34m'total_loss'\u001b[0m\u001b[0;34m]\u001b[0m\u001b[0;34m)\u001b[0m\u001b[0;34m\u001b[0m\u001b[0;34m\u001b[0m\u001b[0m\n",
      "\u001b[0;32m/work/pytorch_tabnet/tab_model.py\u001b[0m in \u001b[0;36mfit_epoch\u001b[0;34m(self, train_dataloader, valid_dataloader)\u001b[0m\n\u001b[1;32m    181\u001b[0m                 \u001b[0mDataLoader\u001b[0m \u001b[0;32mwith\u001b[0m \u001b[0mvalid\u001b[0m \u001b[0mset\u001b[0m\u001b[0;34m\u001b[0m\u001b[0;34m\u001b[0m\u001b[0m\n\u001b[1;32m    182\u001b[0m         \"\"\"\n\u001b[0;32m--> 183\u001b[0;31m         \u001b[0mtrain_metrics\u001b[0m \u001b[0;34m=\u001b[0m \u001b[0mself\u001b[0m\u001b[0;34m.\u001b[0m\u001b[0mtrain_epoch\u001b[0m\u001b[0;34m(\u001b[0m\u001b[0mtrain_dataloader\u001b[0m\u001b[0;34m)\u001b[0m\u001b[0;34m\u001b[0m\u001b[0;34m\u001b[0m\u001b[0m\n\u001b[0m\u001b[1;32m    184\u001b[0m         \u001b[0mvalid_metrics\u001b[0m \u001b[0;34m=\u001b[0m \u001b[0mself\u001b[0m\u001b[0;34m.\u001b[0m\u001b[0mpredict_epoch\u001b[0m\u001b[0;34m(\u001b[0m\u001b[0mvalid_dataloader\u001b[0m\u001b[0;34m)\u001b[0m\u001b[0;34m\u001b[0m\u001b[0;34m\u001b[0m\u001b[0m\n\u001b[1;32m    185\u001b[0m \u001b[0;34m\u001b[0m\u001b[0m\n",
      "\u001b[0;32m/work/pytorch_tabnet/tab_model.py\u001b[0m in \u001b[0;36mtrain_epoch\u001b[0;34m(self, train_loader)\u001b[0m\n\u001b[1;32m    723\u001b[0m                 \u001b[0mys\u001b[0m\u001b[0;34m.\u001b[0m\u001b[0mappend\u001b[0m\u001b[0;34m(\u001b[0m\u001b[0mbatch_outs\u001b[0m\u001b[0;34m[\u001b[0m\u001b[0;34m\"y\"\u001b[0m\u001b[0;34m]\u001b[0m\u001b[0;34m.\u001b[0m\u001b[0mcpu\u001b[0m\u001b[0;34m(\u001b[0m\u001b[0;34m)\u001b[0m\u001b[0;34m.\u001b[0m\u001b[0mdetach\u001b[0m\u001b[0;34m(\u001b[0m\u001b[0;34m)\u001b[0m\u001b[0;34m.\u001b[0m\u001b[0mnumpy\u001b[0m\u001b[0;34m(\u001b[0m\u001b[0;34m)\u001b[0m\u001b[0;34m)\u001b[0m\u001b[0;34m\u001b[0m\u001b[0;34m\u001b[0m\u001b[0m\n\u001b[1;32m    724\u001b[0m                 \u001b[0mtotal_loss\u001b[0m \u001b[0;34m+=\u001b[0m \u001b[0mbatch_outs\u001b[0m\u001b[0;34m[\u001b[0m\u001b[0;34m\"loss\"\u001b[0m\u001b[0;34m]\u001b[0m\u001b[0;34m\u001b[0m\u001b[0;34m\u001b[0m\u001b[0m\n\u001b[0;32m--> 725\u001b[0;31m                 \u001b[0mfeature_importances_\u001b[0m \u001b[0;34m+=\u001b[0m \u001b[0mbatch_outs\u001b[0m\u001b[0;34m[\u001b[0m\u001b[0;34m'batch_importance'\u001b[0m\u001b[0;34m]\u001b[0m\u001b[0;34m\u001b[0m\u001b[0;34m\u001b[0m\u001b[0m\n\u001b[0m\u001b[1;32m    726\u001b[0m                 \u001b[0mpbar\u001b[0m\u001b[0;34m.\u001b[0m\u001b[0mupdate\u001b[0m\u001b[0;34m(\u001b[0m\u001b[0;36m1\u001b[0m\u001b[0;34m)\u001b[0m\u001b[0;34m\u001b[0m\u001b[0;34m\u001b[0m\u001b[0m\n\u001b[1;32m    727\u001b[0m \u001b[0;34m\u001b[0m\u001b[0m\n",
      "\u001b[0;31mValueError\u001b[0m: operands could not be broadcast together with shapes (29,) (57,) (29,) "
     ]
    }
   ],
   "source": [
    "clf.fit(\n",
    "    X_train=X_train, y_train=y_train,\n",
    "    X_valid=X_valid, y_valid=y_valid,\n",
    "    max_epochs=500, patience=50,\n",
    "    batch_size=8192, virtual_batch_size=256\n",
    ") "
   ]
  },
  {
   "cell_type": "code",
   "execution_count": 32,
   "metadata": {},
   "outputs": [],
   "source": [
    "clf.batch_size = 8192\n",
    "clf.best_cost = 0"
   ]
  },
  {
   "cell_type": "code",
   "execution_count": 33,
   "metadata": {},
   "outputs": [
    {
     "name": "stdout",
     "output_type": "stream",
     "text": [
      "BEST VALID SCORE FOR DreamQuarkTabNet_regression.pt : 0\n",
      "FINAL TEST SCORE FOR DreamQuarkTabNet_regression.pt : 353.6176793407061\n"
     ]
    }
   ],
   "source": [
    "# Deprecated : best model is automatically loaded at end of fit\n",
    "# clf.load_best_model()\n",
    "\n",
    "preds = clf.predict(X_test)\n",
    "\n",
    "y_true = y_test\n",
    "\n",
    "test_auc = mean_squared_error(y_pred=preds, y_true=y_true)\n",
    "\n",
    "print(f\"BEST VALID SCORE FOR {dataset_name} : {clf.best_cost}\")\n",
    "print(f\"FINAL TEST SCORE FOR {dataset_name} : {sqrt(test_auc)}\")"
   ]
  },
  {
   "cell_type": "code",
   "execution_count": 34,
   "metadata": {},
   "outputs": [
    {
     "data": {
      "image/png": "[encoded data removed]",
      "text/plain": [
       "<Figure size 432x288 with 1 Axes>"
      ]
     },
     "metadata": {
      "needs_background": "light"
     },
     "output_type": "display_data"
    },
    {
     "data": {
      "image/png": "[encoded data removed]",
      "text/plain": [
       "<Figure size 432x288 with 1 Axes>"
      ]
     },
     "metadata": {
      "needs_background": "light"
     },
     "output_type": "display_data"
    }
   ],
   "source": [
    "import matplotlib.pyplot as plt\n",
    "indices_ = np.argsort(y_true)\n",
    "plt.scatter(range(len(y_true)), y_true[indices_], marker='x')\n",
    "plt.show()\n",
    "plt.scatter(range(len(y_true)), preds[indices_], marker='x')\n",
    "plt.show()"
   ]
  },
  {
   "cell_type": "code",
   "execution_count": 35,
   "metadata": {
    "scrolled": false
   },
   "outputs": [
    {
     "name": "stdout",
     "output_type": "stream",
     "text": [
      "BEST VALID SCORE FOR DreamQuarkTabNet_regression.pt : 0\n",
      "FINAL TEST SCORE FOR DreamQuarkTabNet_regression.pt : 464.6803936180176\n"
     ]
    }
   ],
   "source": [
    "preds = clf.predict(X_true_test)\n",
    "\n",
    "y_true = y_true_test\n",
    "\n",
    "test_true_mse = mean_squared_error(y_pred=preds, y_true=y_true)\n",
    "\n",
    "print(f\"BEST VALID SCORE FOR {dataset_name} : {clf.best_cost}\")\n",
    "print(f\"FINAL TEST SCORE FOR {dataset_name} : {sqrt(test_true_mse)}\")"
   ]
  },
  {
   "cell_type": "code",
   "execution_count": 18,
   "metadata": {},
   "outputs": [
    {
     "data": {
      "image/png": "[encoded data removed]",
      "text/plain": [
       "<Figure size 432x288 with 1 Axes>"
      ]
     },
     "metadata": {
      "needs_background": "light"
     },
     "output_type": "display_data"
    },
    {
     "data": {
      "image/png": "[encoded data removed]",
      "text/plain": [
       "<Figure size 432x288 with 1 Axes>"
      ]
     },
     "metadata": {
      "needs_background": "light"
     },
     "output_type": "display_data"
    }
   ],
   "source": [
    "indices_ = np.argsort(y_true)\n",
    "plt.scatter(range(len(y_true)), y_true[indices_], marker='x')\n",
    "plt.show()\n",
    "plt.scatter(range(len(y_true)), preds[indices_], marker='x')\n",
    "plt.show()"
   ]
  },
  {
   "cell_type": "markdown",
   "metadata": {},
   "source": [
    "# Global explainability : feat importance summing to 1"
   ]
  },
  {
   "cell_type": "code",
   "execution_count": 31,
   "metadata": {},
   "outputs": [],
   "source": [
    "id_ = np.argsort(clf.feature_importances_)[::-1]"
   ]
  },
  {
   "cell_type": "code",
   "execution_count": 32,
   "metadata": {},
   "outputs": [
    {
     "data": {
      "text/plain": [
       "array([4.90059338e-01, 1.95694721e-01, 1.10879462e-01, 5.01211766e-02,\n",
       "       3.38559316e-02, 2.72523758e-02, 2.19849524e-02, 1.88541231e-02,\n",
       "       1.34920730e-02, 1.06027552e-02, 9.97226236e-03, 5.39789652e-03,\n",
       "       3.73783830e-03, 3.46742359e-03, 2.90763291e-03, 1.37836360e-03,\n",
       "       1.51598556e-04, 9.52553506e-05, 9.48200767e-05, 0.00000000e+00,\n",
       "       0.00000000e+00, 0.00000000e+00, 0.00000000e+00, 0.00000000e+00,\n",
       "       0.00000000e+00, 0.00000000e+00, 0.00000000e+00, 0.00000000e+00,\n",
       "       0.00000000e+00])"
      ]
     },
     "execution_count": 32,
     "metadata": {},
     "output_type": "execute_result"
    }
   ],
   "source": [
    "clf.feature_importances_[id_]"
   ]
  },
  {
   "cell_type": "code",
   "execution_count": 34,
   "metadata": {},
   "outputs": [
    {
     "data": {
      "text/plain": [
       "array(['Store', 'Promo2Start_Jan', 'DayOfWeek', 'Day', 'Month',\n",
       "       'Promo2Start_Oct', 'CompetitionOpenSinceMonth', 'StateHoliday',\n",
       "       'Promo2Start_Jun', 'Promo2SinceYear', 'Promo2Start_Aug',\n",
       "       'Promo2Start_Feb', 'Customers', 'Promo2Start_Mar',\n",
       "       'Promo2Start_Dec', 'Promo2', 'Promo2Start_Nov',\n",
       "       'CompetitionDistance', 'Promo2Start_May',\n",
       "       'CompetitionOpenSinceYear', 'Assortment', 'StoreType',\n",
       "       'Promo2SinceWeek', 'Promo2Start_Apr', 'SchoolHoliday', 'Promo',\n",
       "       'Open', 'Promo2Start_Jul', 'Promo2Start_Sept'], dtype='<U25')"
      ]
     },
     "execution_count": 34,
     "metadata": {},
     "output_type": "execute_result"
    }
   ],
   "source": [
    "np.array(features)[id_]"
   ]
  },
  {
   "cell_type": "markdown",
   "metadata": {},
   "source": [
    "# Local explainability and masks"
   ]
  },
  {
   "cell_type": "code",
   "execution_count": 20,
   "metadata": {},
   "outputs": [],
   "source": [
    "explain_matrix, masks = clf.explain(X_test)"
   ]
  },
  {
   "cell_type": "code",
   "execution_count": 21,
   "metadata": {},
   "outputs": [],
   "source": [
    "from matplotlib import pyplot as plt\n",
    "%matplotlib inline"
   ]
  },
  {
   "cell_type": "code",
   "execution_count": 22,
   "metadata": {
    "scrolled": false
   },
   "outputs": [
    {
     "data": {
      "image/png": "[encoded data removed]",
      "text/plain": [
       "<Figure size 1440x1440 with 5 Axes>"
      ]
     },
     "metadata": {
      "needs_background": "light"
     },
     "output_type": "display_data"
    }
   ],
   "source": [
    "fig, axs = plt.subplots(1, 5, figsize=(20,20))\n",
    "\n",
    "for i in range(5):\n",
    "    axs[i].imshow(masks[i][:30])\n",
    "    axs[i].set_title(f\"mask {i}\")\n"
   ]
  },
  {
   "cell_type": "code",
   "execution_count": 23,
   "metadata": {},
   "outputs": [],
   "source": [
    "explain_matrix, masks = clf.explain(X_true_test)"
   ]
  },
  {
   "cell_type": "code",
   "execution_count": 24,
   "metadata": {},
   "outputs": [
    {
     "data": {
      "image/png": "[encoded data removed]",
      "text/plain": [
       "<Figure size 1440x1440 with 5 Axes>"
      ]
     },
     "metadata": {
      "needs_background": "light"
     },
     "output_type": "display_data"
    }
   ],
   "source": [
    "fig, axs = plt.subplots(1, 5, figsize=(20,20))\n",
    "\n",
    "for i in range(5):\n",
    "    axs[i].imshow(masks[i][:30])\n",
    "    axs[i].set_title(f\"mask {i}\")\n"
   ]
  },
  {
   "cell_type": "markdown",
   "metadata": {},
   "source": [
    "# XGB"
   ]
  },
  {
   "cell_type": "code",
   "execution_count": 55,
   "metadata": {
    "scrolled": true
   },
   "outputs": [
    {
     "name": "stdout",
     "output_type": "stream",
     "text": [
      "[0]\tvalidation_0-rmse:6301.23\n",
      "Will train until validation_0-rmse hasn't improved in 500 rounds.\n",
      "[10]\tvalidation_0-rmse:2491.13\n",
      "[20]\tvalidation_0-rmse:1428.42\n",
      "[30]\tvalidation_0-rmse:1162.48\n",
      "[40]\tvalidation_0-rmse:1077.91\n",
      "[50]\tvalidation_0-rmse:1017.21\n",
      "[60]\tvalidation_0-rmse:957.002\n",
      "[70]\tvalidation_0-rmse:891.711\n",
      "[80]\tvalidation_0-rmse:857.016\n",
      "[90]\tvalidation_0-rmse:809.272\n",
      "[100]\tvalidation_0-rmse:769.913\n",
      "[110]\tvalidation_0-rmse:740.057\n",
      "[120]\tvalidation_0-rmse:701.045\n",
      "[130]\tvalidation_0-rmse:675.466\n",
      "[140]\tvalidation_0-rmse:661.697\n",
      "[150]\tvalidation_0-rmse:645.231\n",
      "[160]\tvalidation_0-rmse:622.3\n",
      "[170]\tvalidation_0-rmse:607.453\n",
      "[180]\tvalidation_0-rmse:592.683\n",
      "[190]\tvalidation_0-rmse:577.655\n",
      "[200]\tvalidation_0-rmse:562.894\n",
      "[210]\tvalidation_0-rmse:552.105\n",
      "[220]\tvalidation_0-rmse:539.922\n",
      "[230]\tvalidation_0-rmse:533.442\n",
      "[240]\tvalidation_0-rmse:522.602\n",
      "[250]\tvalidation_0-rmse:515.743\n",
      "[260]\tvalidation_0-rmse:507.488\n",
      "[270]\tvalidation_0-rmse:498.111\n",
      "[280]\tvalidation_0-rmse:491.073\n",
      "[290]\tvalidation_0-rmse:484.791\n",
      "[300]\tvalidation_0-rmse:479.481\n",
      "[310]\tvalidation_0-rmse:474.845\n",
      "[320]\tvalidation_0-rmse:470.593\n",
      "[330]\tvalidation_0-rmse:464.686\n",
      "[340]\tvalidation_0-rmse:461.931\n",
      "[350]\tvalidation_0-rmse:457.609\n",
      "[360]\tvalidation_0-rmse:454.013\n",
      "[370]\tvalidation_0-rmse:450.549\n",
      "[380]\tvalidation_0-rmse:446.554\n",
      "[390]\tvalidation_0-rmse:442.763\n",
      "[400]\tvalidation_0-rmse:439.395\n",
      "[410]\tvalidation_0-rmse:435.727\n",
      "[420]\tvalidation_0-rmse:433.08\n",
      "[430]\tvalidation_0-rmse:429.58\n",
      "[440]\tvalidation_0-rmse:426.747\n",
      "[450]\tvalidation_0-rmse:424.387\n",
      "[460]\tvalidation_0-rmse:421.926\n",
      "[470]\tvalidation_0-rmse:419.783\n",
      "[480]\tvalidation_0-rmse:417.968\n",
      "[490]\tvalidation_0-rmse:416.456\n",
      "[500]\tvalidation_0-rmse:414.206\n",
      "[510]\tvalidation_0-rmse:412.344\n",
      "[520]\tvalidation_0-rmse:410.7\n",
      "[530]\tvalidation_0-rmse:408.934\n",
      "[540]\tvalidation_0-rmse:407.009\n",
      "[550]\tvalidation_0-rmse:405.828\n",
      "[560]\tvalidation_0-rmse:404.439\n",
      "[570]\tvalidation_0-rmse:403.071\n",
      "[580]\tvalidation_0-rmse:401.847\n",
      "[590]\tvalidation_0-rmse:400.471\n",
      "[600]\tvalidation_0-rmse:399.049\n",
      "[610]\tvalidation_0-rmse:397.56\n",
      "[620]\tvalidation_0-rmse:396.109\n",
      "[630]\tvalidation_0-rmse:395.017\n",
      "[640]\tvalidation_0-rmse:394.162\n",
      "[650]\tvalidation_0-rmse:393.185\n",
      "[660]\tvalidation_0-rmse:392.052\n",
      "[670]\tvalidation_0-rmse:390.781\n",
      "[680]\tvalidation_0-rmse:389.981\n",
      "[690]\tvalidation_0-rmse:389.118\n",
      "[700]\tvalidation_0-rmse:388.429\n",
      "[710]\tvalidation_0-rmse:387.855\n",
      "[720]\tvalidation_0-rmse:387.039\n",
      "[730]\tvalidation_0-rmse:386.249\n",
      "[740]\tvalidation_0-rmse:385.362\n",
      "[750]\tvalidation_0-rmse:384.61\n",
      "[760]\tvalidation_0-rmse:383.781\n",
      "[770]\tvalidation_0-rmse:382.777\n",
      "[780]\tvalidation_0-rmse:382.339\n",
      "[790]\tvalidation_0-rmse:381.567\n",
      "[800]\tvalidation_0-rmse:381.054\n",
      "[810]\tvalidation_0-rmse:380.417\n",
      "[820]\tvalidation_0-rmse:379.908\n",
      "[830]\tvalidation_0-rmse:379.32\n",
      "[840]\tvalidation_0-rmse:378.898\n",
      "[850]\tvalidation_0-rmse:378.134\n",
      "[860]\tvalidation_0-rmse:377.719\n",
      "[870]\tvalidation_0-rmse:377.101\n",
      "[880]\tvalidation_0-rmse:376.409\n",
      "[890]\tvalidation_0-rmse:375.918\n",
      "[900]\tvalidation_0-rmse:375.493\n",
      "[910]\tvalidation_0-rmse:375.051\n",
      "[920]\tvalidation_0-rmse:374.678\n",
      "[930]\tvalidation_0-rmse:374.214\n",
      "[940]\tvalidation_0-rmse:373.772\n",
      "[950]\tvalidation_0-rmse:373.454\n",
      "[960]\tvalidation_0-rmse:372.98\n",
      "[970]\tvalidation_0-rmse:372.41\n",
      "[980]\tvalidation_0-rmse:372.162\n",
      "[990]\tvalidation_0-rmse:371.714\n",
      "[1000]\tvalidation_0-rmse:370.944\n",
      "[1010]\tvalidation_0-rmse:370.556\n",
      "[1020]\tvalidation_0-rmse:370.047\n",
      "[1030]\tvalidation_0-rmse:369.79\n",
      "[1040]\tvalidation_0-rmse:369.264\n",
      "[1050]\tvalidation_0-rmse:368.766\n",
      "[1060]\tvalidation_0-rmse:368.277\n",
      "[1070]\tvalidation_0-rmse:367.999\n",
      "[1080]\tvalidation_0-rmse:367.177\n",
      "[1090]\tvalidation_0-rmse:366.848\n",
      "[1100]\tvalidation_0-rmse:366.516\n",
      "[1110]\tvalidation_0-rmse:366.286\n",
      "[1120]\tvalidation_0-rmse:365.989\n",
      "[1130]\tvalidation_0-rmse:365.658\n",
      "[1140]\tvalidation_0-rmse:365.429\n",
      "[1150]\tvalidation_0-rmse:365.116\n",
      "[1160]\tvalidation_0-rmse:364.754\n",
      "[1170]\tvalidation_0-rmse:364.434\n",
      "[1180]\tvalidation_0-rmse:364.165\n",
      "[1190]\tvalidation_0-rmse:363.795\n",
      "[1200]\tvalidation_0-rmse:363.506\n",
      "[1210]\tvalidation_0-rmse:363.423\n",
      "[1220]\tvalidation_0-rmse:363.32\n",
      "[1230]\tvalidation_0-rmse:362.976\n",
      "[1240]\tvalidation_0-rmse:362.821\n",
      "[1250]\tvalidation_0-rmse:362.54\n",
      "[1260]\tvalidation_0-rmse:362.415\n",
      "[1270]\tvalidation_0-rmse:362.171\n",
      "[1280]\tvalidation_0-rmse:361.93\n",
      "[1290]\tvalidation_0-rmse:361.669\n",
      "[1300]\tvalidation_0-rmse:361.319\n",
      "[1310]\tvalidation_0-rmse:361.12\n",
      "[1320]\tvalidation_0-rmse:360.825\n",
      "[1330]\tvalidation_0-rmse:360.435\n",
      "[1340]\tvalidation_0-rmse:359.884\n",
      "[1350]\tvalidation_0-rmse:359.592\n",
      "[1360]\tvalidation_0-rmse:359.431\n",
      "[1370]\tvalidation_0-rmse:359.253\n",
      "[1380]\tvalidation_0-rmse:359.087\n",
      "[1390]\tvalidation_0-rmse:358.807\n",
      "[1400]\tvalidation_0-rmse:358.715\n",
      "[1410]\tvalidation_0-rmse:358.422\n",
      "[1420]\tvalidation_0-rmse:358.295\n",
      "[1430]\tvalidation_0-rmse:358.195\n",
      "[1440]\tvalidation_0-rmse:358.012\n",
      "[1450]\tvalidation_0-rmse:357.754\n",
      "[1460]\tvalidation_0-rmse:357.627\n",
      "[1470]\tvalidation_0-rmse:357.505\n",
      "[1480]\tvalidation_0-rmse:357.36\n",
      "[1490]\tvalidation_0-rmse:357.231\n",
      "[1500]\tvalidation_0-rmse:356.951\n",
      "[1510]\tvalidation_0-rmse:356.773\n",
      "[1520]\tvalidation_0-rmse:356.628\n",
      "[1530]\tvalidation_0-rmse:356.44\n",
      "[1540]\tvalidation_0-rmse:356.435\n",
      "[1550]\tvalidation_0-rmse:356.225\n",
      "[1560]\tvalidation_0-rmse:356.022\n",
      "[1570]\tvalidation_0-rmse:355.81\n",
      "[1580]\tvalidation_0-rmse:355.756\n",
      "[1590]\tvalidation_0-rmse:355.654\n",
      "[1600]\tvalidation_0-rmse:355.563\n",
      "[1610]\tvalidation_0-rmse:355.498\n",
      "[1620]\tvalidation_0-rmse:355.348\n",
      "[1630]\tvalidation_0-rmse:355.253\n",
      "[1640]\tvalidation_0-rmse:355.082\n",
      "[1650]\tvalidation_0-rmse:354.969\n",
      "[1660]\tvalidation_0-rmse:354.827\n",
      "[1670]\tvalidation_0-rmse:354.708\n",
      "[1680]\tvalidation_0-rmse:354.63\n",
      "[1690]\tvalidation_0-rmse:354.387\n",
      "[1700]\tvalidation_0-rmse:354.275\n",
      "[1710]\tvalidation_0-rmse:354.22\n",
      "[1720]\tvalidation_0-rmse:354.147\n",
      "[1730]\tvalidation_0-rmse:354.106\n",
      "[1740]\tvalidation_0-rmse:354.071\n",
      "[1750]\tvalidation_0-rmse:354.012\n",
      "[1760]\tvalidation_0-rmse:353.887\n",
      "[1770]\tvalidation_0-rmse:353.768\n",
      "[1780]\tvalidation_0-rmse:353.578\n",
      "[1790]\tvalidation_0-rmse:353.466\n",
      "[1800]\tvalidation_0-rmse:353.328\n",
      "[1810]\tvalidation_0-rmse:353.169\n",
      "[1820]\tvalidation_0-rmse:353.09\n",
      "[1830]\tvalidation_0-rmse:353.022\n",
      "[1840]\tvalidation_0-rmse:352.884\n",
      "[1850]\tvalidation_0-rmse:352.726\n",
      "[1860]\tvalidation_0-rmse:352.617\n",
      "[1870]\tvalidation_0-rmse:352.592\n",
      "[1880]\tvalidation_0-rmse:352.482\n",
      "[1890]\tvalidation_0-rmse:352.403\n",
      "[1900]\tvalidation_0-rmse:352.298\n",
      "[1910]\tvalidation_0-rmse:352.212\n",
      "[1920]\tvalidation_0-rmse:352.09\n",
      "[1930]\tvalidation_0-rmse:351.958\n",
      "[1940]\tvalidation_0-rmse:351.905\n",
      "[1950]\tvalidation_0-rmse:351.927\n",
      "[1960]\tvalidation_0-rmse:351.941\n",
      "[1970]\tvalidation_0-rmse:351.854\n",
      "[1980]\tvalidation_0-rmse:351.694\n",
      "[1990]\tvalidation_0-rmse:351.599\n",
      "[2000]\tvalidation_0-rmse:351.475\n",
      "[2010]\tvalidation_0-rmse:351.415\n",
      "[2020]\tvalidation_0-rmse:351.257\n",
      "[2030]\tvalidation_0-rmse:351.175\n",
      "[2040]\tvalidation_0-rmse:351.075\n",
      "[2050]\tvalidation_0-rmse:350.955\n",
      "[2060]\tvalidation_0-rmse:350.925\n",
      "[2070]\tvalidation_0-rmse:350.936\n",
      "[2080]\tvalidation_0-rmse:350.871\n",
      "[2090]\tvalidation_0-rmse:350.812\n",
      "[2100]\tvalidation_0-rmse:350.754\n",
      "[2110]\tvalidation_0-rmse:350.707\n",
      "[2120]\tvalidation_0-rmse:350.701\n",
      "[2130]\tvalidation_0-rmse:350.663\n",
      "[2140]\tvalidation_0-rmse:350.597\n",
      "[2150]\tvalidation_0-rmse:350.553\n",
      "[2160]\tvalidation_0-rmse:350.519\n",
      "[2170]\tvalidation_0-rmse:350.463\n",
      "[2180]\tvalidation_0-rmse:350.414\n",
      "[2190]\tvalidation_0-rmse:350.318\n",
      "[2200]\tvalidation_0-rmse:350.286\n",
      "[2210]\tvalidation_0-rmse:350.187\n",
      "[2220]\tvalidation_0-rmse:350.148\n",
      "[2230]\tvalidation_0-rmse:350.137\n",
      "[2240]\tvalidation_0-rmse:350.094\n",
      "[2250]\tvalidation_0-rmse:350.027\n",
      "[2260]\tvalidation_0-rmse:349.938\n",
      "[2270]\tvalidation_0-rmse:349.883\n",
      "[2280]\tvalidation_0-rmse:349.877\n",
      "[2290]\tvalidation_0-rmse:349.821\n",
      "[2300]\tvalidation_0-rmse:349.79\n",
      "[2310]\tvalidation_0-rmse:349.761\n",
      "[2320]\tvalidation_0-rmse:349.75\n",
      "[2330]\tvalidation_0-rmse:349.665\n",
      "[2340]\tvalidation_0-rmse:349.573\n",
      "[2350]\tvalidation_0-rmse:349.536\n",
      "[2360]\tvalidation_0-rmse:349.473\n",
      "[2370]\tvalidation_0-rmse:349.433\n",
      "[2380]\tvalidation_0-rmse:349.427\n",
      "[2390]\tvalidation_0-rmse:349.391\n",
      "[2400]\tvalidation_0-rmse:349.374\n",
      "[2410]\tvalidation_0-rmse:349.347\n",
      "[2420]\tvalidation_0-rmse:349.271\n",
      "[2430]\tvalidation_0-rmse:349.191\n",
      "[2440]\tvalidation_0-rmse:349.108\n",
      "[2450]\tvalidation_0-rmse:349.092\n",
      "[2460]\tvalidation_0-rmse:349.009\n",
      "[2470]\tvalidation_0-rmse:348.968\n",
      "[2480]\tvalidation_0-rmse:348.861\n",
      "[2490]\tvalidation_0-rmse:348.801\n",
      "[2500]\tvalidation_0-rmse:348.772\n"
     ]
    },
    {
     "name": "stdout",
     "output_type": "stream",
     "text": [
      "[2510]\tvalidation_0-rmse:348.726\n",
      "[2520]\tvalidation_0-rmse:348.712\n",
      "[2530]\tvalidation_0-rmse:348.611\n",
      "[2540]\tvalidation_0-rmse:348.568\n",
      "[2550]\tvalidation_0-rmse:348.52\n",
      "[2560]\tvalidation_0-rmse:348.481\n",
      "[2570]\tvalidation_0-rmse:348.449\n",
      "[2580]\tvalidation_0-rmse:348.429\n",
      "[2590]\tvalidation_0-rmse:348.358\n",
      "[2600]\tvalidation_0-rmse:348.343\n",
      "[2610]\tvalidation_0-rmse:348.32\n",
      "[2620]\tvalidation_0-rmse:348.337\n",
      "[2630]\tvalidation_0-rmse:348.262\n",
      "[2640]\tvalidation_0-rmse:348.229\n",
      "[2650]\tvalidation_0-rmse:348.177\n",
      "[2660]\tvalidation_0-rmse:348.101\n",
      "[2670]\tvalidation_0-rmse:348.026\n",
      "[2680]\tvalidation_0-rmse:347.936\n",
      "[2690]\tvalidation_0-rmse:347.921\n",
      "[2700]\tvalidation_0-rmse:347.884\n",
      "[2710]\tvalidation_0-rmse:347.82\n",
      "[2720]\tvalidation_0-rmse:347.781\n",
      "[2730]\tvalidation_0-rmse:347.642\n",
      "[2740]\tvalidation_0-rmse:347.574\n",
      "[2750]\tvalidation_0-rmse:347.565\n",
      "[2760]\tvalidation_0-rmse:347.53\n",
      "[2770]\tvalidation_0-rmse:347.458\n",
      "[2780]\tvalidation_0-rmse:347.437\n",
      "[2790]\tvalidation_0-rmse:347.397\n",
      "[2800]\tvalidation_0-rmse:347.377\n",
      "[2810]\tvalidation_0-rmse:347.381\n",
      "[2820]\tvalidation_0-rmse:347.299\n",
      "[2830]\tvalidation_0-rmse:347.3\n",
      "[2840]\tvalidation_0-rmse:347.267\n",
      "[2850]\tvalidation_0-rmse:347.27\n",
      "[2860]\tvalidation_0-rmse:347.243\n",
      "[2870]\tvalidation_0-rmse:347.231\n",
      "[2880]\tvalidation_0-rmse:347.145\n",
      "[2890]\tvalidation_0-rmse:347.135\n",
      "[2900]\tvalidation_0-rmse:347.131\n",
      "[2910]\tvalidation_0-rmse:347.12\n",
      "[2920]\tvalidation_0-rmse:347.103\n",
      "[2930]\tvalidation_0-rmse:347.064\n",
      "[2940]\tvalidation_0-rmse:347.029\n",
      "[2950]\tvalidation_0-rmse:347.014\n",
      "[2960]\tvalidation_0-rmse:347.019\n",
      "[2970]\tvalidation_0-rmse:346.993\n",
      "[2980]\tvalidation_0-rmse:346.974\n",
      "[2990]\tvalidation_0-rmse:346.955\n",
      "[3000]\tvalidation_0-rmse:346.934\n",
      "[3010]\tvalidation_0-rmse:346.933\n",
      "[3020]\tvalidation_0-rmse:346.917\n",
      "[3030]\tvalidation_0-rmse:346.886\n",
      "[3040]\tvalidation_0-rmse:346.767\n",
      "[3050]\tvalidation_0-rmse:346.774\n",
      "[3060]\tvalidation_0-rmse:346.738\n",
      "[3070]\tvalidation_0-rmse:346.768\n",
      "[3080]\tvalidation_0-rmse:346.71\n",
      "[3090]\tvalidation_0-rmse:346.675\n",
      "[3100]\tvalidation_0-rmse:346.627\n",
      "[3110]\tvalidation_0-rmse:346.589\n",
      "[3120]\tvalidation_0-rmse:346.546\n",
      "[3130]\tvalidation_0-rmse:346.563\n",
      "[3140]\tvalidation_0-rmse:346.521\n",
      "[3150]\tvalidation_0-rmse:346.526\n",
      "[3160]\tvalidation_0-rmse:346.492\n",
      "[3170]\tvalidation_0-rmse:346.513\n",
      "[3180]\tvalidation_0-rmse:346.503\n",
      "[3190]\tvalidation_0-rmse:346.459\n",
      "[3200]\tvalidation_0-rmse:346.458\n",
      "[3210]\tvalidation_0-rmse:346.451\n",
      "[3220]\tvalidation_0-rmse:346.474\n",
      "[3230]\tvalidation_0-rmse:346.454\n",
      "[3240]\tvalidation_0-rmse:346.382\n",
      "[3250]\tvalidation_0-rmse:346.365\n",
      "[3260]\tvalidation_0-rmse:346.369\n",
      "[3270]\tvalidation_0-rmse:346.35\n",
      "[3280]\tvalidation_0-rmse:346.344\n",
      "[3290]\tvalidation_0-rmse:346.323\n",
      "[3300]\tvalidation_0-rmse:346.334\n",
      "[3310]\tvalidation_0-rmse:346.331\n",
      "[3320]\tvalidation_0-rmse:346.263\n",
      "[3330]\tvalidation_0-rmse:346.221\n",
      "[3340]\tvalidation_0-rmse:346.188\n",
      "[3350]\tvalidation_0-rmse:346.142\n",
      "[3360]\tvalidation_0-rmse:346.094\n",
      "[3370]\tvalidation_0-rmse:346.105\n",
      "[3380]\tvalidation_0-rmse:346.124\n",
      "[3390]\tvalidation_0-rmse:346.083\n",
      "[3400]\tvalidation_0-rmse:346.097\n",
      "[3410]\tvalidation_0-rmse:346.108\n",
      "[3420]\tvalidation_0-rmse:346.101\n",
      "[3430]\tvalidation_0-rmse:346.121\n",
      "[3440]\tvalidation_0-rmse:346.112\n",
      "[3450]\tvalidation_0-rmse:346.102\n",
      "[3460]\tvalidation_0-rmse:346.107\n",
      "[3470]\tvalidation_0-rmse:346.103\n",
      "[3480]\tvalidation_0-rmse:346.099\n",
      "[3490]\tvalidation_0-rmse:346.086\n",
      "[3500]\tvalidation_0-rmse:346.082\n",
      "[3510]\tvalidation_0-rmse:346.103\n",
      "[3520]\tvalidation_0-rmse:346.144\n",
      "[3530]\tvalidation_0-rmse:346.144\n",
      "[3540]\tvalidation_0-rmse:346.124\n",
      "[3550]\tvalidation_0-rmse:346.096\n",
      "[3560]\tvalidation_0-rmse:346.119\n",
      "[3570]\tvalidation_0-rmse:346.12\n",
      "[3580]\tvalidation_0-rmse:346.11\n",
      "[3590]\tvalidation_0-rmse:346.131\n",
      "[3600]\tvalidation_0-rmse:346.122\n",
      "[3610]\tvalidation_0-rmse:346.155\n",
      "[3620]\tvalidation_0-rmse:346.084\n",
      "[3630]\tvalidation_0-rmse:346.083\n",
      "[3640]\tvalidation_0-rmse:346.083\n",
      "[3650]\tvalidation_0-rmse:346.109\n",
      "[3660]\tvalidation_0-rmse:346.106\n",
      "[3670]\tvalidation_0-rmse:346.028\n",
      "[3680]\tvalidation_0-rmse:345.949\n",
      "[3690]\tvalidation_0-rmse:345.928\n",
      "[3700]\tvalidation_0-rmse:345.883\n",
      "[3710]\tvalidation_0-rmse:345.871\n",
      "[3720]\tvalidation_0-rmse:345.886\n",
      "[3730]\tvalidation_0-rmse:345.928\n",
      "[3740]\tvalidation_0-rmse:345.92\n",
      "[3750]\tvalidation_0-rmse:345.981\n",
      "[3760]\tvalidation_0-rmse:345.971\n",
      "[3770]\tvalidation_0-rmse:345.893\n",
      "[3780]\tvalidation_0-rmse:345.871\n",
      "[3790]\tvalidation_0-rmse:345.881\n",
      "[3800]\tvalidation_0-rmse:345.822\n",
      "[3810]\tvalidation_0-rmse:345.797\n",
      "[3820]\tvalidation_0-rmse:345.8\n",
      "[3830]\tvalidation_0-rmse:345.807\n",
      "[3840]\tvalidation_0-rmse:345.808\n",
      "[3850]\tvalidation_0-rmse:345.8\n",
      "[3860]\tvalidation_0-rmse:345.784\n",
      "[3870]\tvalidation_0-rmse:345.788\n",
      "[3880]\tvalidation_0-rmse:345.795\n",
      "[3890]\tvalidation_0-rmse:345.781\n",
      "[3900]\tvalidation_0-rmse:345.789\n",
      "[3910]\tvalidation_0-rmse:345.813\n",
      "[3920]\tvalidation_0-rmse:345.783\n",
      "[3930]\tvalidation_0-rmse:345.802\n",
      "[3940]\tvalidation_0-rmse:345.767\n",
      "[3950]\tvalidation_0-rmse:345.744\n",
      "[3960]\tvalidation_0-rmse:345.736\n",
      "[3970]\tvalidation_0-rmse:345.761\n",
      "[3980]\tvalidation_0-rmse:345.741\n",
      "[3990]\tvalidation_0-rmse:345.726\n",
      "[4000]\tvalidation_0-rmse:345.713\n",
      "[4010]\tvalidation_0-rmse:345.701\n",
      "[4020]\tvalidation_0-rmse:345.683\n",
      "[4030]\tvalidation_0-rmse:345.71\n",
      "[4040]\tvalidation_0-rmse:345.672\n",
      "[4050]\tvalidation_0-rmse:345.692\n",
      "[4060]\tvalidation_0-rmse:345.712\n",
      "[4070]\tvalidation_0-rmse:345.764\n",
      "[4080]\tvalidation_0-rmse:345.758\n",
      "[4090]\tvalidation_0-rmse:345.699\n",
      "[4100]\tvalidation_0-rmse:345.719\n",
      "[4110]\tvalidation_0-rmse:345.718\n",
      "[4120]\tvalidation_0-rmse:345.683\n",
      "[4130]\tvalidation_0-rmse:345.703\n",
      "[4140]\tvalidation_0-rmse:345.754\n",
      "[4150]\tvalidation_0-rmse:345.752\n",
      "[4160]\tvalidation_0-rmse:345.738\n",
      "[4170]\tvalidation_0-rmse:345.736\n",
      "[4180]\tvalidation_0-rmse:345.744\n",
      "[4190]\tvalidation_0-rmse:345.694\n",
      "[4200]\tvalidation_0-rmse:345.689\n",
      "[4210]\tvalidation_0-rmse:345.651\n",
      "[4220]\tvalidation_0-rmse:345.648\n",
      "[4230]\tvalidation_0-rmse:345.632\n",
      "[4240]\tvalidation_0-rmse:345.613\n",
      "[4250]\tvalidation_0-rmse:345.68\n",
      "[4260]\tvalidation_0-rmse:345.712\n",
      "[4270]\tvalidation_0-rmse:345.691\n",
      "[4280]\tvalidation_0-rmse:345.643\n",
      "[4290]\tvalidation_0-rmse:345.646\n",
      "[4300]\tvalidation_0-rmse:345.586\n",
      "[4310]\tvalidation_0-rmse:345.599\n",
      "[4320]\tvalidation_0-rmse:345.608\n",
      "[4330]\tvalidation_0-rmse:345.651\n",
      "[4340]\tvalidation_0-rmse:345.616\n",
      "[4350]\tvalidation_0-rmse:345.597\n",
      "[4360]\tvalidation_0-rmse:345.628\n",
      "[4370]\tvalidation_0-rmse:345.626\n",
      "[4380]\tvalidation_0-rmse:345.604\n",
      "[4390]\tvalidation_0-rmse:345.615\n",
      "[4400]\tvalidation_0-rmse:345.61\n",
      "[4410]\tvalidation_0-rmse:345.603\n",
      "[4420]\tvalidation_0-rmse:345.622\n",
      "[4430]\tvalidation_0-rmse:345.637\n",
      "[4440]\tvalidation_0-rmse:345.649\n",
      "[4450]\tvalidation_0-rmse:345.644\n",
      "[4460]\tvalidation_0-rmse:345.594\n",
      "[4470]\tvalidation_0-rmse:345.626\n",
      "[4480]\tvalidation_0-rmse:345.642\n",
      "[4490]\tvalidation_0-rmse:345.659\n",
      "[4500]\tvalidation_0-rmse:345.646\n",
      "[4510]\tvalidation_0-rmse:345.653\n",
      "[4520]\tvalidation_0-rmse:345.653\n",
      "[4530]\tvalidation_0-rmse:345.662\n",
      "[4540]\tvalidation_0-rmse:345.673\n",
      "[4550]\tvalidation_0-rmse:345.635\n",
      "[4560]\tvalidation_0-rmse:345.622\n",
      "[4570]\tvalidation_0-rmse:345.623\n",
      "[4580]\tvalidation_0-rmse:345.584\n",
      "[4590]\tvalidation_0-rmse:345.616\n",
      "[4600]\tvalidation_0-rmse:345.554\n",
      "[4610]\tvalidation_0-rmse:345.54\n",
      "[4620]\tvalidation_0-rmse:345.559\n",
      "[4630]\tvalidation_0-rmse:345.559\n",
      "[4640]\tvalidation_0-rmse:345.573\n",
      "[4650]\tvalidation_0-rmse:345.558\n",
      "[4660]\tvalidation_0-rmse:345.576\n",
      "[4670]\tvalidation_0-rmse:345.596\n",
      "[4680]\tvalidation_0-rmse:345.617\n",
      "[4690]\tvalidation_0-rmse:345.566\n",
      "[4700]\tvalidation_0-rmse:345.556\n",
      "[4710]\tvalidation_0-rmse:345.559\n",
      "[4720]\tvalidation_0-rmse:345.54\n",
      "[4730]\tvalidation_0-rmse:345.496\n",
      "[4740]\tvalidation_0-rmse:345.491\n",
      "[4750]\tvalidation_0-rmse:345.48\n",
      "[4760]\tvalidation_0-rmse:345.436\n",
      "[4770]\tvalidation_0-rmse:345.43\n",
      "[4780]\tvalidation_0-rmse:345.431\n",
      "[4790]\tvalidation_0-rmse:345.452\n",
      "[4800]\tvalidation_0-rmse:345.415\n",
      "[4810]\tvalidation_0-rmse:345.401\n",
      "[4820]\tvalidation_0-rmse:345.388\n",
      "[4830]\tvalidation_0-rmse:345.375\n",
      "[4840]\tvalidation_0-rmse:345.392\n",
      "[4850]\tvalidation_0-rmse:345.413\n",
      "[4860]\tvalidation_0-rmse:345.411\n",
      "[4870]\tvalidation_0-rmse:345.412\n",
      "[4880]\tvalidation_0-rmse:345.44\n",
      "[4890]\tvalidation_0-rmse:345.454\n",
      "[4900]\tvalidation_0-rmse:345.476\n",
      "[4910]\tvalidation_0-rmse:345.46\n",
      "[4920]\tvalidation_0-rmse:345.455\n",
      "[4930]\tvalidation_0-rmse:345.465\n",
      "[4940]\tvalidation_0-rmse:345.492\n",
      "[4950]\tvalidation_0-rmse:345.515\n",
      "[4960]\tvalidation_0-rmse:345.512\n",
      "[4970]\tvalidation_0-rmse:345.493\n",
      "[4980]\tvalidation_0-rmse:345.484\n",
      "[4990]\tvalidation_0-rmse:345.501\n",
      "[5000]\tvalidation_0-rmse:345.509\n"
     ]
    },
    {
     "name": "stdout",
     "output_type": "stream",
     "text": [
      "[5010]\tvalidation_0-rmse:345.535\n",
      "[5020]\tvalidation_0-rmse:345.572\n",
      "[5030]\tvalidation_0-rmse:345.577\n",
      "[5040]\tvalidation_0-rmse:345.579\n",
      "[5050]\tvalidation_0-rmse:345.573\n",
      "[5060]\tvalidation_0-rmse:345.559\n",
      "[5070]\tvalidation_0-rmse:345.582\n",
      "[5080]\tvalidation_0-rmse:345.6\n",
      "[5090]\tvalidation_0-rmse:345.575\n",
      "[5100]\tvalidation_0-rmse:345.594\n",
      "[5110]\tvalidation_0-rmse:345.577\n",
      "[5120]\tvalidation_0-rmse:345.584\n",
      "[5130]\tvalidation_0-rmse:345.604\n",
      "[5140]\tvalidation_0-rmse:345.639\n",
      "[5150]\tvalidation_0-rmse:345.646\n",
      "[5160]\tvalidation_0-rmse:345.654\n",
      "[5170]\tvalidation_0-rmse:345.646\n",
      "[5180]\tvalidation_0-rmse:345.657\n",
      "[5190]\tvalidation_0-rmse:345.689\n",
      "[5200]\tvalidation_0-rmse:345.682\n",
      "[5210]\tvalidation_0-rmse:345.701\n",
      "[5220]\tvalidation_0-rmse:345.699\n",
      "[5230]\tvalidation_0-rmse:345.69\n",
      "[5240]\tvalidation_0-rmse:345.693\n",
      "[5250]\tvalidation_0-rmse:345.682\n",
      "[5260]\tvalidation_0-rmse:345.661\n",
      "[5270]\tvalidation_0-rmse:345.653\n",
      "[5280]\tvalidation_0-rmse:345.646\n",
      "[5290]\tvalidation_0-rmse:345.633\n",
      "[5300]\tvalidation_0-rmse:345.642\n",
      "[5310]\tvalidation_0-rmse:345.664\n",
      "[5320]\tvalidation_0-rmse:345.671\n",
      "Stopping. Best iteration:\n",
      "[4824]\tvalidation_0-rmse:345.362\n",
      "\n"
     ]
    },
    {
     "data": {
      "text/plain": [
       "XGBRegressor(base_score=0.5, booster='gbtree', colsample_bylevel=1,\n",
       "             colsample_bynode=1, colsample_bytree=0.883176060062088,\n",
       "             eval_metric='rmse', gamma=0, grow_policy='depthwise',\n",
       "             importance_type='gain', learning_rate=0.10032091014826115,\n",
       "             max_bin=1020, max_delta_step=0, max_depth=7, min_child_weight=1,\n",
       "             min_split_loss=0, missing=None, n_estimators=15000, n_jobs=1,\n",
       "             nthread=None, objective='reg:linear', random_state=0,\n",
       "             reg_alpha=0.14747200224681817, reg_lambda=0, scale_pos_weight=1,\n",
       "             seed=None, silent=1, subsample=0.5740170782945163,\n",
       "             tree_method='gpu_hist', verbosity=1)"
      ]
     },
     "execution_count": 55,
     "metadata": {},
     "output_type": "execute_result"
    }
   ],
   "source": [
    "from xgboost import XGBRegressor\n",
    "\n",
    "clf_xgb = XGBRegressor(\n",
    "    n_estimators=15000,\n",
    "    max_depth=7,\n",
    "    tree_method='gpu_hist',\n",
    "    colsample_bytree=0.883176060062088,\n",
    "    reg_alpha=0.14747200224681817,\n",
    "    silent=1,\n",
    "    eval_metric='rmse',\n",
    "    grow_policy='depthwise',\n",
    "    learning_rate=0.10032091014826115,\n",
    "    subsample=0.5740170782945163,\n",
    "    reg_lambda=0, max_bin=1020,\n",
    "    objective='reg:linear',\n",
    "    min_split_loss=0,\n",
    "    \n",
    ")\n",
    "\n",
    "clf_xgb.fit(X_train, y_train,\n",
    "        eval_set=[(X_valid, y_valid)],\n",
    "        early_stopping_rounds=500,\n",
    "        verbose=10)"
   ]
  },
  {
   "cell_type": "code",
   "execution_count": 56,
   "metadata": {},
   "outputs": [
    {
     "data": {
      "text/plain": [
       "array([0.01891081, 0.01768534, 0.29396632, 0.07115039, 0.10092605,\n",
       "       0.01145023, 0.00470017, 0.00729083, 0.00479908, 0.02984716,\n",
       "       0.0171219 , 0.02288054, 0.01960108, 0.01961047, 0.04267998,\n",
       "       0.01750463, 0.02538559, 0.01273111, 0.01663766, 0.01301947,\n",
       "       0.05034421, 0.02561332, 0.01006061, 0.01048246, 0.04214257,\n",
       "       0.02053112, 0.05443379, 0.01583528, 0.00265781], dtype=float32)"
      ]
     },
     "execution_count": 56,
     "metadata": {},
     "output_type": "execute_result"
    }
   ],
   "source": [
    "clf_xgb.feature_importances_"
   ]
  },
  {
   "cell_type": "code",
   "execution_count": 57,
   "metadata": {
    "scrolled": true
   },
   "outputs": [
    {
     "name": "stdout",
     "output_type": "stream",
     "text": [
      "345.36189850863315\n",
      "349.844745539146\n"
     ]
    }
   ],
   "source": [
    "preds = np.array(clf_xgb.predict(X_valid))\n",
    "valid_auc = mean_squared_error(y_pred=preds, y_true=y_valid)\n",
    "print(sqrt(valid_auc))\n",
    "\n",
    "preds = np.array(clf_xgb.predict(X_test))\n",
    "test_auc = mean_squared_error(y_pred=preds, y_true=y_test)\n",
    "print(sqrt(test_auc))"
   ]
  },
  {
   "cell_type": "code",
   "execution_count": 58,
   "metadata": {},
   "outputs": [
    {
     "name": "stdout",
     "output_type": "stream",
     "text": [
      "486.8043487855505\n"
     ]
    }
   ],
   "source": [
    "preds = np.array(clf_xgb.predict(X_true_test))\n",
    "test_auc = mean_squared_error(y_pred=preds, y_true=y_true_test)\n",
    "print(sqrt(test_auc))"
   ]
  }
 ],
 "metadata": {
  "kernelspec": {
   "display_name": "Python 3",
   "language": "python",
   "name": "python3"
  },
  "language_info": {
   "codemirror_mode": {
    "name": "ipython",
    "version": 3
   },
   "file_extension": ".py",
   "mimetype": "text/x-python",
   "name": "python",
   "nbconvert_exporter": "python",
   "pygments_lexer": "ipython3",
   "version": "3.7.5"
  }
 },
 "nbformat": 4,
 "nbformat_minor": 2
}
